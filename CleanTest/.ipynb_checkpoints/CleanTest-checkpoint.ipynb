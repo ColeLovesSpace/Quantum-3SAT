{
 "cells": [
  {
   "cell_type": "markdown",
   "id": "coastal-beginning",
   "metadata": {},
   "source": [
    "# Direct Comparison of Quantum 3SAT algorithm, QAOASAT, and classical counterpart.  "
   ]
  },
  {
   "cell_type": "markdown",
   "id": "determined-astrology",
   "metadata": {},
   "source": [
    "## Shared functions/dependencies "
   ]
  },
  {
   "cell_type": "code",
   "execution_count": 1,
   "id": "interpreted-general",
   "metadata": {
    "tags": []
   },
   "outputs": [],
   "source": [
    "# Needed for functions\n",
    "import time\n",
    "import numpy as np\n",
    "from numpy import pi\n",
    "from copy import deepcopy\n",
    "import pandas as pd\n",
    "import matplotlib.pyplot as plt\n",
    "from collections import Counter\n",
    "import random\n",
    "from QSAT import *\n",
    "from Shonings import *\n",
    "\n",
    "#import packages for classical algorithm\n",
    "import ctypes\n",
    "from numpy import ctypeslib as npct\n",
    "\n",
    "#import packages for quantum algorithm\n",
    "from qiskit import *\n",
    "from qiskit.tools.jupyter import *\n",
    "from qiskit.visualization import *\n",
    "import qiskit.quantum_info as qi\n",
    "\n",
    "from qiskit import Aer, transpile\n",
    "# import qiskit.providers.aer\n",
    "from qiskit_aer import AerError\n",
    "\n",
    "from scipy.optimize import minimize"
   ]
  },
  {
   "cell_type": "markdown",
   "id": "front-parker",
   "metadata": {},
   "source": []
  },
  {
   "cell_type": "markdown",
   "id": "dominican-lesson",
   "metadata": {},
   "source": [
    "## Exhaustive search for solution"
   ]
  },
  {
   "cell_type": "markdown",
   "id": "falling-hours",
   "metadata": {},
   "source": [
    "Helper functions for classical exhaustive search of solutions to SAT instance"
   ]
  },
  {
   "cell_type": "code",
   "execution_count": 2,
   "id": "tamil-piece",
   "metadata": {
    "jupyter": {
     "source_hidden": true
    },
    "tags": []
   },
   "outputs": [],
   "source": [
    "def checkSAT(SAT, state, c, n):\n",
    "        \n",
    "    for t in range(c):\n",
    "        # //get the variables the clause is interested in\n",
    "        seive = (1 << (abs(int(SAT[t][0])) - 1)) + (1 << (int(abs(SAT[t][1])) - 1)) + (1 << (int(abs(SAT[t][2])) - 1))\n",
    "        # //get the values in the clause to xor\n",
    "        gate = 0\n",
    "            \n",
    "        if (SAT[t][0] > 0):\n",
    "            gate += 1 << (abs(int((SAT[t][0]))) - 1)\n",
    "        if (SAT[t][1] > 0):\n",
    "            gate += 1 << (abs(int((SAT[t][1]))) - 1)\n",
    "        if (SAT[t][2] > 0):\n",
    "            gate += 1 << (abs(int((SAT[t][2]))) - 1)\n",
    "\n",
    "        a = seive & state\n",
    "        b = gate ^ a\n",
    "\n",
    "        if (b == 0):\n",
    "            return False\n",
    "    return True\n",
    "\n",
    "def exhausting(SAT,c,n):\n",
    "    solutions = []\n",
    "#     for t in range(c):\n",
    "#         print((int(SAT[t][0])),\" \",(int(SAT[t][1])),\" \",(int(SAT[t][2])))\n",
    "    \n",
    "    for s in range(0,2**n):\n",
    "        state = int(s)\n",
    "        if(checkSAT(SAT, state, c, n)):\n",
    "            solutions.append(state)\n",
    "    return solutions\n",
    "            "
   ]
  },
  {
   "cell_type": "code",
   "execution_count": 3,
   "id": "willing-pearl",
   "metadata": {
    "jupyter": {
     "source_hidden": true
    },
    "tags": []
   },
   "outputs": [],
   "source": [
    "# SAT = buildSatSingleSolution(n)\n",
    "# # random.shuffle(SAT)\n",
    "# solutions = exhausting(SAT,c,n)\n",
    "# print(solutions)\n",
    "\n",
    "# myKeys = list(res.keys())\n",
    "# myKeys.sort()\n",
    "# sorted_dict = {i: res[i] for i in myKeys}\n",
    " \n",
    "# print(sorted_dict)\n",
    "# plt.plot(list(map(int,sorted_dict.keys())),sorted_dict.values())"
   ]
  },
  {
   "cell_type": "markdown",
   "id": "identified-campus",
   "metadata": {},
   "source": [
    "# Test and compare quantum and classical algorithms"
   ]
  },
  {
   "cell_type": "code",
   "execution_count": 4,
   "id": "developmental-pressure",
   "metadata": {
    "tags": []
   },
   "outputs": [],
   "source": [
    "def setup(n,nc,nSAT):\n",
    "    par = {}\n",
    "    par['nQ'] = n\n",
    "    par['nC'] = nc\n",
    "    par['nSAT'] = nSAT\n",
    "    par['sat'] = buildSatSingleSolution(par['nQ'])\n",
    "    par['satList'] = SATset(n,nc,nSAT)\n",
    "    par['numRepeats'] = 1000\n",
    "    par['numIt'] = 5\n",
    "    par['maxIt'] = n\n",
    "    \n",
    "#     par['theta'] = -np.pi/2\n",
    "#     par['lambda'] = np.pi/2\n",
    "    \n",
    "    par['gamma'] = 2.008e+00 \n",
    "    par['beta'] = -2.395e-04            \n",
    "    \n",
    "    #Plotting Conditionals\n",
    "    par['latex'] = True\n",
    "    par['statevector'] = True\n",
    "    par['saveEnd'] = False\n",
    "    par['figName'] = \"plots/QAOASAT/{:0>3}.png\".format(par['nQ'])\n",
    "    par['xAsis'] = \"$\\frac{c}{v}$\"\n",
    "    par['yAsis'] = \"$P(\\text{solved})_{i<\"+\"+{}\".format(par['maxIt'])+\"}$\"\n",
    "    \n",
    "    par['measure'] = False\n",
    "    par['had'] = True\n",
    "    \n",
    "    par['gpu'] = False\n",
    "    \n",
    "    state = ''\n",
    "    for q in range(n):\n",
    "        state = state + '0'\n",
    "    par['state'] = state\n",
    "    \n",
    "    return par"
   ]
  },
  {
   "cell_type": "markdown",
   "id": "stretch-moment",
   "metadata": {},
   "source": [
    "Initialize parameters for SAT instance"
   ]
  },
  {
   "cell_type": "code",
   "execution_count": 5,
   "id": "sticky-render",
   "metadata": {},
   "outputs": [],
   "source": [
    "par = setup(4,16,1)"
   ]
  },
  {
   "cell_type": "code",
   "execution_count": 6,
   "id": "touched-abuse",
   "metadata": {},
   "outputs": [],
   "source": [
    "# ee = np.eye(2 ** 3,dtype=complex)\n",
    "# ee[3][3] = np.exp(1j*3)\n",
    "# print(ee)\n",
    "par['sat'] = [[-4, -3, -2], [-4, -3, 2], [-4, -2, -1], [-4, -2, 1], [-4, -1, 2], [-4, -1, 3], [-4, 1, 3], [-3, -2, 1], [-2, -1, 3], [-2, -1, 4], [-2, 1, 3], [-2, 1, 4], [1, 2, 3], [1, 2, 4], [1, 3, 4], [2, 3, 4]]\n",
    "par['satList'][0] = [[-4, -3, -2], [-4, -3, 2], [-4, -2, -1], [-4, -2, 1], [-4, -1, 2], [-4, -1, 3], [-4, 1, 3], [-3, -2, 1], [-2, -1, 3], [-2, -1, 4], [-2, 1, 3], [-2, 1, 4], [1, 2, 3], [1, 2, 4], [1, 3, 4], [2, 3, 4]]"
   ]
  },
  {
   "cell_type": "markdown",
   "id": "excess-content",
   "metadata": {},
   "source": [
    "Run statistical test of modified Shonings algorithm"
   ]
  },
  {
   "cell_type": "code",
   "execution_count": 7,
   "id": "polar-demonstration",
   "metadata": {},
   "outputs": [],
   "source": [
    "res = classicalSolve(par['nQ'],par['satList'][0],par['nC'],par['maxIt'],par['numRepeats'])\n",
    "\n",
    "\n",
    "cutoff = [x for x in res if x < par['maxIt']-1]\n",
    "values, base = np.histogram(cutoff, bins=par['nQ']**2)\n",
    "# values, base = np.histogram(res, bins=n**2)\n",
    "#evaluate the cumulative\n",
    "cumulative = np.cumsum(values)\n"
   ]
  },
  {
   "cell_type": "code",
   "execution_count": 8,
   "id": "acquired-february",
   "metadata": {},
   "outputs": [
    {
     "name": "stdout",
     "output_type": "stream",
     "text": [
      "{4}\n",
      "[0 0 0 0 0 0 0 0 0 0 0 0 0 0 0 0]\n"
     ]
    }
   ],
   "source": [
    "print(set(res))\n",
    "print(cumulative)"
   ]
  },
  {
   "cell_type": "markdown",
   "id": "athletic-abortion",
   "metadata": {},
   "source": [
    "Run statistical test of regular Shonings algorithm"
   ]
  },
  {
   "cell_type": "code",
   "execution_count": 9,
   "id": "contrary-bishop",
   "metadata": {},
   "outputs": [
    {
     "name": "stdout",
     "output_type": "stream",
     "text": [
      "[0 0 0 0 0 0 0 0 0 0 0 0 0 0 0 0]\n"
     ]
    }
   ],
   "source": [
    "resS = classicalSolveS(par['nQ'],par['satList'][0],par['nC'],par['maxIt'],par['numRepeats'])\n",
    "cutoffS = [x for x in resS if x < par['maxIt']-1]\n",
    "valuesS, baseS = np.histogram(cutoffS, bins=par['nQ']**2)\n",
    "# valuesS, baseS = np.histogram(resS, bins=n**2)\n",
    "#evaluate the cumulative\n",
    "cumulativeS = np.cumsum(valuesS)\n",
    "print(cumulativeS)"
   ]
  },
  {
   "cell_type": "code",
   "execution_count": 10,
   "id": "several-tuning",
   "metadata": {
    "tags": []
   },
   "outputs": [
    {
     "name": "stdout",
     "output_type": "stream",
     "text": [
      "[10]\n",
      "[[-4, -3, -2], [-4, -3, 2], [-4, -2, -1], [-4, -2, 1], [-4, -1, 2], [-4, -1, 3], [-4, 1, 3], [-3, -2, 1], [-2, -1, 3], [-2, -1, 4], [-2, 1, 3], [-2, 1, 4], [1, 2, 3], [1, 2, 4], [1, 3, 4], [2, 3, 4]]\n"
     ]
    }
   ],
   "source": [
    "solutions = exhausting(par['satList'][0],par['nC'],par['nQ'])\n",
    "print(solutions)\n",
    "print(par['satList'][0])"
   ]
  },
  {
   "cell_type": "markdown",
   "id": "confident-cement",
   "metadata": {},
   "source": [
    "[[-4, -3, -2], [-4, -3, 2], [-4, -2, -1], [-4, -2, 1], [-4, -1, 2], [-4, -1, 3], [-4, 1, 3], [-3, -2, 1], [-2, -1, 3], [-2, -1, 4], [-2, 1, 3], [-2, 1, 4], [1, 2, 3], [1, 2, 4], [1, 3, 4], [2, 3, 4]]"
   ]
  },
  {
   "cell_type": "code",
   "execution_count": null,
   "id": "plain-calgary",
   "metadata": {},
   "outputs": [],
   "source": []
  },
  {
   "cell_type": "markdown",
   "id": "middle-leisure",
   "metadata": {},
   "source": [
    "Run test of quantum algorithm"
   ]
  },
  {
   "cell_type": "code",
   "execution_count": 20,
   "id": "united-seattle",
   "metadata": {},
   "outputs": [
    {
     "name": "stdout",
     "output_type": "stream",
     "text": [
      "Iteration 1 took -0.045749664306640625\n",
      "Iteration 1 took -37.56132936477661\n",
      "Iteration 2 took -0.06437492370605469\n",
      "Iteration 2 took -63.445438861846924\n",
      "Iteration 3 took -0.09443426132202148\n",
      "Iteration 3 took -89.61917638778687\n",
      "Iteration 4 took -0.1260838508605957\n",
      "Iteration 4 took -115.7535617351532\n"
     ]
    },
    {
     "data": {
      "image/png": "[encoded data removed]",
      "text/plain": [
       "<Figure size 432x288 with 1 Axes>"
      ]
     },
     "metadata": {
      "needs_background": "light"
     },
     "output_type": "display_data"
    }
   ],
   "source": [
    "maxIt = par['maxIt']#c#n**2\n",
    "\n",
    "entropyList = []\n",
    "entropyList2 = []\n",
    "probList = []\n",
    "probList2 = []\n",
    "probList3 = []\n",
    "xs = np.linspace(1,maxIt,num = maxIt,dtype='int')\n",
    "par['sat'] = par['satList'][0]\n",
    "if par['gpu']:\n",
    "    # Initialize a GPU backend\n",
    "    # Note that the cloud instance for tutorials does not have a GPU\n",
    "    # so this will raise an exception.\n",
    "    try:\n",
    "        simulator_density_matrix = Aer.get_backend('aer_simulator_density_matrix')\n",
    "#         simulator_density_matrix = Aer.get_backend('aer_simulator_statevector')\n",
    "        simulator_density_matrix.set_options(device='GPU')\n",
    "#         config = simulator_density_matrix.configuration()\n",
    "#         print(str(config.multi_meas_enabled))\n",
    "    except AerError as e:\n",
    "        print(e)\n",
    "        \n",
    "    for it in xs:\n",
    "        par['numIt']  = it\n",
    "        shots = 10000\n",
    "\n",
    "        # Build circuit\n",
    "        start = time.time()\n",
    "        qc = buildCircuit(par,True)\n",
    "        circ = transpile(qc, simulator_density_matrix, optimization_level=0)\n",
    "        job_density_matrix = simulator_density_matrix.run(circ, shots=shots)\n",
    "        counts_density_matrix = job_density_matrix.result().get_counts(0)\n",
    "\n",
    "        print(\"Iteration \" + str(it) + \" took \" + str(start-time.time()))\n",
    "\n",
    "        total = 0\n",
    "        for state in counts_density_matrix:\n",
    "            if(checkSAT(par['sat'], int(state, 2), len(par['sat']), par['nQ'])):\n",
    "                total += counts_density_matrix[state]\n",
    "\n",
    "        probList.append(total/shots)\n",
    "        \n",
    "#         # Build circuit\n",
    "#         start = time.time()\n",
    "#         qc2 = buildCircuitMeasure(par,True)\n",
    "#         circ2 = transpile(qc2, simulator_density_matrix, optimization_level=0)\n",
    "#         job_density_matrix2 = simulator_density_matrix.run(circ2, shots=shots)#,dynamic=True\n",
    "#         counts_density_matrix2 = job_density_matrix2.result().get_counts(0)\n",
    "\n",
    "#         print(\"Iteration \" + str(it) + \" took \" + str(start-time.time()))\n",
    "# #         print(counts_density_matrix2)\n",
    "#         total2 = 0\n",
    "#         for state in counts_density_matrix2:\n",
    "# #             print(state)\n",
    "#             if(checkSAT(par['sat'], int(state, 2), len(par['sat']), par['nQ'])):\n",
    "#                 total2 += counts_density_matrix2[state]\n",
    "\n",
    "#         probList2.append(total2/shots)\n",
    "        \n",
    "        # Build circuit\n",
    "        start = time.time()\n",
    "        qc3 = buildCircuitCost(par,True)\n",
    "        circ3 = transpile(qc3, simulator_density_matrix, optimization_level=0)\n",
    "        job_density_matrix3 = simulator_density_matrix.run(circ3, shots=shots)#,dynamic=True\n",
    "        counts_density_matrix3 = job_density_matrix3.result().get_counts(0)\n",
    "\n",
    "        print(\"Iteration cost\" + str(it) + \" took \" + str(start-time.time()))\n",
    "#         print(counts_density_matrix2)\n",
    "        total3 = 0\n",
    "        for state in counts_density_matrix3:\n",
    "#             print(state)\n",
    "            if(checkSAT(par['sat'], int(state, 2), len(par['sat']), par['nQ'])):\n",
    "                total3 += counts_density_matrix3[state]\n",
    "\n",
    "        probList3.append(total3/shots)\n",
    "else:\n",
    "    for it in xs:\n",
    "        par['numIt']  = it\n",
    "\n",
    "        # Build circuit\n",
    "        start = time.time()\n",
    "        qc = buildCircuit(par,False)\n",
    "#         qc2 = buildCircuitNOT(par,False)#*Borat voice*\n",
    "        \n",
    "\n",
    "        if(par['statevector']):\n",
    "            # Execute and get counts\n",
    "            DM = qi.DensityMatrix.from_instruction(qc)\n",
    "            # probs = DM.probabilities_dict()\n",
    "            DM2 = qi.partial_trace(DM,[par['nQ']])\n",
    "            probs = DM2.probabilities_dict()\n",
    "            entropyList.append(qi.entropy(DM2))\n",
    "\n",
    "        print(\"Iteration \" + str(it) + \" took \" + str(start-time.time()))\n",
    "\n",
    "        names = list(probs.keys())\n",
    "        values = list(probs.values())\n",
    "        \n",
    "        totalProb = 0\n",
    "        for s in solutions:\n",
    "            totalProb += list(probs.values())[s]\n",
    "        probList.append(totalProb)\n",
    "        \n",
    "        qc2 = buildCircuitQFTor(par,False)\n",
    "        \n",
    "        if(par['statevector']):\n",
    "            # Execute and get counts\n",
    "            DM2 = qi.DensityMatrix.from_instruction(qc2)\n",
    "            # probs = DM.probabilities_dict()\n",
    "            DM22 = qi.partial_trace(DM2,[item for item in range(par['nQ'], 2*par['nQ']+3)])\n",
    "            probs2 = DM22.probabilities_dict()\n",
    "            entropyList2.append(qi.entropy(DM22))\n",
    "\n",
    "        print(\"Iteration \" + str(it) + \" took \" + str(start-time.time()))\n",
    "\n",
    "        names2 = list(probs2.keys())\n",
    "        values2 = list(probs2.values())\n",
    "#         print(names2)\n",
    "#         print(values2)\n",
    "\n",
    "        totalProb2 = 0\n",
    "#         print(solutions)\n",
    "        for s in solutions:\n",
    "#             print(s)\n",
    "            totalProb2 += probs2[f'{s:04b}']\n",
    "        probList2.append(totalProb2)\n",
    "#         print(totalProb2)\n",
    "    plt.plot(xs, entropyList, c='red')\n",
    "    plt.plot(xs, entropyList2, c='magenta')\n",
    "plt.show()"
   ]
  },
  {
   "cell_type": "code",
   "execution_count": null,
   "id": "indoor-evanescence",
   "metadata": {},
   "outputs": [],
   "source": []
  },
  {
   "cell_type": "code",
   "execution_count": 21,
   "id": "classified-faculty",
   "metadata": {},
   "outputs": [
    {
     "data": {
      "text/plain": [
       "<matplotlib.legend.Legend at 0x1555047f6880>"
      ]
     },
     "execution_count": 21,
     "metadata": {},
     "output_type": "execute_result"
    },
    {
     "data": {
      "image/png": "[encoded data removed]",
      "text/plain": [
       "<Figure size 432x288 with 1 Axes>"
      ]
     },
     "metadata": {
      "needs_background": "light"
     },
     "output_type": "display_data"
    }
   ],
   "source": [
    "# plt.plot(base[:-1]+1, cumulative/par['maxIt'], c='blue')\n",
    "# plt.plot(baseS[:-1]+1, cumulativeS/par['maxIt'], c='green')\n",
    "plt.plot(xs, probList, c='red',label=\"3SAT\")\n",
    "# plt.plot(xs, probList2, c='magenta',label=\"QAOA\")\n",
    "plt.plot(xs, probList2, c='blue',label=\"QFTSAT\")\n",
    "plt.legend()\n",
    "# plt.plot(xs, probList3, c='blue')\n",
    "# plt.plot(base[:]+1, cumulative/numIt, c='blue')\n",
    "# plt.plot(baseS[:]+1, cumulativeS/numIt, c='green')\n",
    "# plt.plot(xs, probList, c='red')"
   ]
  },
  {
   "cell_type": "code",
   "execution_count": 13,
   "id": "boolean-tract",
   "metadata": {},
   "outputs": [
    {
     "name": "stdout",
     "output_type": "stream",
     "text": [
      "Iteration 1 took -14.31367015838623\n",
      "Iteration 1 took -14.353891849517822\n",
      "Iteration 1 took -14.394909858703613\n",
      "Iteration 1 took -14.435393571853638\n",
      "Iteration 1 took -14.475622653961182\n",
      "Iteration 1 took -14.51578688621521\n",
      "Iteration 2 took -14.59522008895874\n",
      "Iteration 2 took -14.673926591873169\n",
      "Iteration 2 took -14.752906799316406\n",
      "Iteration 2 took -14.832553625106812\n",
      "Iteration 2 took -14.911982536315918\n",
      "Iteration 2 took -14.999574899673462\n",
      "Iteration 3 took -15.119421482086182\n",
      "Iteration 3 took -15.238646268844604\n",
      "Iteration 3 took -15.35895037651062\n",
      "Iteration 3 took -15.479503870010376\n",
      "Iteration 3 took -15.599938869476318\n",
      "Iteration 3 took -15.71930980682373\n",
      "Iteration 4 took -15.875306367874146\n",
      "Iteration 4 took -16.04066801071167\n",
      "Iteration 4 took -16.196472883224487\n",
      "Iteration 4 took -16.351473808288574\n",
      "Iteration 4 took -16.564879655838013\n",
      "Iteration 4 took -16.72140669822693\n"
     ]
    },
    {
     "data": {
      "text/plain": [
       "<matplotlib.legend.Legend at 0x1555048e1910>"
      ]
     },
     "execution_count": 13,
     "metadata": {},
     "output_type": "execute_result"
    },
    {
     "data": {
      "image/png": "[encoded data removed]",
      "text/plain": [
       "<Figure size 432x288 with 1 Axes>"
      ]
     },
     "metadata": {
      "needs_background": "light"
     },
     "output_type": "display_data"
    }
   ],
   "source": [
    "maxIt = par['maxIt']#c#n**2\n",
    "\n",
    "probListGamma = []\n",
    "xs = np.linspace(1,maxIt,num = maxIt,dtype='int')\n",
    "par['sat'] = par['satList'][0]\n",
    "gammaList = np.linspace(0,2*np.pi,num = 6,dtype='float')\n",
    "\n",
    "for g in range(len(gammaList)):\n",
    "    probListGamma.append([]) \n",
    "\n",
    "# print(gammaList)\n",
    "for it in xs:\n",
    "    par['numIt']  = it\n",
    "    for g in range(len(gammaList)):\n",
    "        par['gamma'] = 0\n",
    "        par['beta'] = gammaList[g]\n",
    "        qc2 = buildCircuitCost(par,False)\n",
    "        totalProb = 0\n",
    "        for s in solutions:\n",
    "            totalProb += list(probs.values())[s]\n",
    "        probList.append(totalProb)\n",
    "\n",
    "        if(par['statevector']):\n",
    "            # Execute and get counts\n",
    "            DM2 = qi.DensityMatrix.from_instruction(qc2)\n",
    "            # probs = DM.probabilities_dict()\n",
    "            DM22 = qi.partial_trace(DM2,[par['nQ']])\n",
    "            probs2 = DM22.probabilities_dict()\n",
    "\n",
    "        print(\"Iteration \" + str(it) + \" took \" + str(start-time.time()))\n",
    "\n",
    "        names2 = list(probs2.keys())\n",
    "        values2 = list(probs2.values())\n",
    "\n",
    "        totalProb2 = 0\n",
    "        for s in solutions:\n",
    "            totalProb2 += probs2[f'{s:04b}']\n",
    "        probListGamma[g].append(totalProb2)\n",
    "      \n",
    "\n",
    "    \n",
    "for li in range(len(probListGamma)):\n",
    "    name = \"QAOA g=\"+ str(gammaList[li])\n",
    "    plt.plot(xs, probListGamma[li] ,label=name)\n",
    "    \n",
    "plt.legend()"
   ]
  },
  {
   "cell_type": "code",
   "execution_count": 14,
   "id": "pediatric-announcement",
   "metadata": {},
   "outputs": [],
   "source": [
    "def toMin(phases):\n",
    "    probList3 = []\n",
    "    # Initialize a GPU backend\n",
    "    # Note that the cloud instance for tutorials does not have a GPU\n",
    "    # so this will raise an exception.\n",
    "    try:\n",
    "        simulator_density_matrix = Aer.get_backend('aer_simulator_density_matrix')\n",
    "#         simulator_density_matrix = Aer.get_backend('aer_simulator_statevector')\n",
    "        simulator_density_matrix.set_options(device='GPU')\n",
    "#         config = simulator_density_matrix.configuration()\n",
    "#         print(str(config.multi_meas_enabled))\n",
    "    except AerError as e:\n",
    "        print(e)\n",
    "        \n",
    "    par['gamma'] = phases[0]\n",
    "    par['beta'] = phases[1]\n",
    "    par['numIt']  = 6\n",
    "    shots = 10000\n",
    "\n",
    "#     # Build circuit\n",
    "#     start = time.time()\n",
    "#     qc = buildCircuit(par,True)\n",
    "#     circ = transpile(qc, simulator_density_matrix, optimization_level=0)\n",
    "#     job_density_matrix = simulator_density_matrix.run(circ, shots=shots)\n",
    "#     counts_density_matrix = job_density_matrix.result().get_counts(0)\n",
    "\n",
    "#     print(\"Iteration \" + str(it) + \" took \" + str(start-time.time()))\n",
    "\n",
    "#     total = 0\n",
    "#     for state in counts_density_matrix:\n",
    "#         if(checkSAT(par['sat'], int(state, 2), len(par['sat']), par['nQ'])):\n",
    "#             total += counts_density_matrix[state]\n",
    "\n",
    "#     probList.append(total/shots)\n",
    "\n",
    "    # Build circuit\n",
    "#     start = time.time()\n",
    "#     qc2 = buildCircuitMeasure(par,True)\n",
    "#     circ2 = transpile(qc2, simulator_density_matrix, optimization_level=0)\n",
    "#     job_density_matrix2 = simulator_density_matrix.run(circ2, shots=shots)#,dynamic=True\n",
    "#     counts_density_matrix2 = job_density_matrix2.result().get_counts(0)\n",
    "\n",
    "#     print(\"Iteration \" + str(it) + \" took \" + str(start-time.time()))\n",
    "# #         print(counts_density_matrix2)\n",
    "#     total2 = 0\n",
    "#     for state in counts_density_matrix2:\n",
    "# #             print(state)\n",
    "#         if(checkSAT(par['sat'], int(state, 2), len(par['sat']), par['nQ'])):\n",
    "#             total2 += counts_density_matrix2[state]\n",
    "\n",
    "#     probList2.append(total2/shots)\n",
    "\n",
    "    # Build circuit\n",
    "    start = time.time()\n",
    "    qc3 = buildCircuitCost(par,True)\n",
    "    circ3 = transpile(qc3, simulator_density_matrix, optimization_level=0)\n",
    "    job_density_matrix3 = simulator_density_matrix.run(circ3, shots=shots)#,dynamic=True\n",
    "    counts_density_matrix3 = job_density_matrix3.result().get_counts(0)\n",
    "\n",
    "    print(\"Iteration cost\" + str(it) + \" took \" + str(start-time.time()))\n",
    "#         print(counts_density_matrix2)\n",
    "    total3 = 0\n",
    "    for state in counts_density_matrix3:\n",
    "#             print(state)\n",
    "        if(checkSAT(par['sat'], int(state, 2), len(par['sat']), par['nQ'])):\n",
    "            total3 += counts_density_matrix3[state]\n",
    "\n",
    "    return 1 - total3/shots"
   ]
  },
  {
   "cell_type": "code",
   "execution_count": 15,
   "id": "brutal-heavy",
   "metadata": {},
   "outputs": [],
   "source": [
    "def toMin2(phases):\n",
    "    probList3 = []\n",
    "        \n",
    "    par['gamma'] = phases[0]\n",
    "    par['beta'] = phases[1]\n",
    "    par['numIt']  = 8\n",
    "\n",
    "    qc2 = buildCircuitCost(par,False)\n",
    "    totalProb = 0\n",
    "    for s in solutions:\n",
    "        totalProb += list(probs.values())[s]\n",
    "    probList.append(totalProb)\n",
    "\n",
    "    if(par['statevector']):\n",
    "        # Execute and get counts\n",
    "        DM2 = qi.DensityMatrix.from_instruction(qc2)\n",
    "        # probs = DM.probabilities_dict()\n",
    "        DM22 = qi.partial_trace(DM2,[par['nQ']])\n",
    "        probs2 = DM22.probabilities_dict()\n",
    "        entropyList2.append(qi.entropy(DM22))\n",
    "\n",
    "    print(\"Iteration \" + str(it) + \" took \" + str(start-time.time()))\n",
    "\n",
    "    names2 = list(probs2.keys())\n",
    "    values2 = list(probs2.values())\n",
    "#         print(names2)\n",
    "#         print(values2)\n",
    "\n",
    "    totalProb2 = 0\n",
    "#         print(solutions)\n",
    "    for s in solutions:\n",
    "#             print(s)\n",
    "        totalProb2 += probs2[f'{s:04b}']\n",
    "#     probList2.append(totalProb2)\n",
    "\n",
    "    return 1 - totalProb2"
   ]
  },
  {
   "cell_type": "code",
   "execution_count": 16,
   "id": "young-humanitarian",
   "metadata": {},
   "outputs": [
    {
     "name": "stdout",
     "output_type": "stream",
     "text": [
      "Iteration 4 took -17.192201137542725\n",
      "Iteration 4 took -17.50494384765625\n",
      "Iteration 4 took -17.824669361114502\n",
      "Iteration 4 took -18.14275860786438\n",
      "Iteration 4 took -18.453298091888428\n",
      "Iteration 4 took -18.837233304977417\n",
      "Iteration 4 took -19.15702772140503\n",
      "Iteration 4 took -19.4675612449646\n",
      "Iteration 4 took -19.775416135787964\n",
      "Iteration 4 took -20.09382939338684\n",
      "Iteration 4 took -20.407527923583984\n",
      "Iteration 4 took -20.779186964035034\n",
      "Iteration 4 took -21.09895420074463\n",
      "Iteration 4 took -21.405595541000366\n",
      "Iteration 4 took -21.71610450744629\n",
      "Iteration 4 took -22.033961296081543\n",
      "Iteration 4 took -22.34363627433777\n",
      "Iteration 4 took -22.711233854293823\n",
      "Iteration 4 took -23.028922080993652\n",
      "Iteration 4 took -23.33700442314148\n",
      "Iteration 4 took -23.64608407020569\n",
      "Iteration 4 took -23.957569360733032\n",
      "Iteration 4 took -24.277812957763672\n",
      "Iteration 4 took -24.645025968551636\n",
      "Iteration 4 took -24.96824860572815\n",
      "Iteration 4 took -25.31430721282959\n",
      "Iteration 4 took -25.645695686340332\n",
      "Iteration 4 took -25.972450017929077\n",
      "Iteration 4 took -26.31464672088623\n",
      " message: Optimization terminated successfully.\n",
      " success: True\n",
      "  status: 1\n",
      "     fun: 0.14093510644732588\n",
      "       x: [ 2.008e+00 -2.395e-04]\n",
      "    nfev: 29\n",
      "   maxcv: 0.0\n"
     ]
    }
   ],
   "source": [
    "res = minimize(toMin2,[1.0,1.0],method='COBYLA')\n",
    "print(res)"
   ]
  },
  {
   "cell_type": "code",
   "execution_count": 17,
   "id": "appropriate-tonight",
   "metadata": {},
   "outputs": [
    {
     "name": "stdout",
     "output_type": "stream",
     "text": [
      "0.6315904653983502\n"
     ]
    }
   ],
   "source": [
    "print(probList[-1])"
   ]
  },
  {
   "cell_type": "code",
   "execution_count": 18,
   "id": "imported-intention",
   "metadata": {},
   "outputs": [
    {
     "ename": "NameError",
     "evalue": "name 'numIt' is not defined",
     "output_type": "error",
     "traceback": [
      "\u001b[0;31m---------------------------------------------------------------------------\u001b[0m",
      "\u001b[0;31mNameError\u001b[0m                                 Traceback (most recent call last)",
      "\u001b[0;32m<ipython-input-18-0d7223e195aa>\u001b[0m in \u001b[0;36m<module>\u001b[0;34m\u001b[0m\n\u001b[0;32m----> 1\u001b[0;31m \u001b[0mplt\u001b[0m\u001b[0;34m.\u001b[0m\u001b[0mplot\u001b[0m\u001b[0;34m(\u001b[0m\u001b[0mbase\u001b[0m\u001b[0;34m[\u001b[0m\u001b[0;34m:\u001b[0m\u001b[0;34m-\u001b[0m\u001b[0;36m1\u001b[0m\u001b[0;34m]\u001b[0m\u001b[0;34m+\u001b[0m\u001b[0;36m1\u001b[0m\u001b[0;34m,\u001b[0m \u001b[0mcumulative\u001b[0m\u001b[0;34m/\u001b[0m\u001b[0mnumIt\u001b[0m\u001b[0;34m,\u001b[0m \u001b[0mc\u001b[0m\u001b[0;34m=\u001b[0m\u001b[0;34m'blue'\u001b[0m\u001b[0;34m)\u001b[0m\u001b[0;34m\u001b[0m\u001b[0;34m\u001b[0m\u001b[0m\n\u001b[0m\u001b[1;32m      2\u001b[0m \u001b[0mplt\u001b[0m\u001b[0;34m.\u001b[0m\u001b[0mplot\u001b[0m\u001b[0;34m(\u001b[0m\u001b[0mbaseS\u001b[0m\u001b[0;34m[\u001b[0m\u001b[0;34m:\u001b[0m\u001b[0;34m-\u001b[0m\u001b[0;36m1\u001b[0m\u001b[0;34m]\u001b[0m\u001b[0;34m+\u001b[0m\u001b[0;36m1\u001b[0m\u001b[0;34m,\u001b[0m \u001b[0mcumulativeS\u001b[0m\u001b[0;34m/\u001b[0m\u001b[0mnumIt\u001b[0m\u001b[0;34m,\u001b[0m \u001b[0mc\u001b[0m\u001b[0;34m=\u001b[0m\u001b[0;34m'green'\u001b[0m\u001b[0;34m)\u001b[0m\u001b[0;34m\u001b[0m\u001b[0;34m\u001b[0m\u001b[0m\n\u001b[1;32m      3\u001b[0m \u001b[0mplt\u001b[0m\u001b[0;34m.\u001b[0m\u001b[0mplot\u001b[0m\u001b[0;34m(\u001b[0m\u001b[0mxs\u001b[0m\u001b[0;34m,\u001b[0m \u001b[0mprobList\u001b[0m\u001b[0;34m,\u001b[0m \u001b[0mc\u001b[0m\u001b[0;34m=\u001b[0m\u001b[0;34m'red'\u001b[0m\u001b[0;34m)\u001b[0m\u001b[0;34m\u001b[0m\u001b[0;34m\u001b[0m\u001b[0m\n\u001b[1;32m      4\u001b[0m \u001b[0mplt\u001b[0m\u001b[0;34m.\u001b[0m\u001b[0mxscale\u001b[0m\u001b[0;34m(\u001b[0m\u001b[0;34m'log'\u001b[0m\u001b[0;34m)\u001b[0m\u001b[0;34m\u001b[0m\u001b[0;34m\u001b[0m\u001b[0m\n\u001b[1;32m      5\u001b[0m \u001b[0mplt\u001b[0m\u001b[0;34m.\u001b[0m\u001b[0myscale\u001b[0m\u001b[0;34m(\u001b[0m\u001b[0;34m'log'\u001b[0m\u001b[0;34m)\u001b[0m\u001b[0;34m\u001b[0m\u001b[0;34m\u001b[0m\u001b[0m\n",
      "\u001b[0;31mNameError\u001b[0m: name 'numIt' is not defined"
     ]
    }
   ],
   "source": [
    "plt.plot(base[:-1]+1, cumulative/numIt, c='blue')\n",
    "plt.plot(baseS[:-1]+1, cumulativeS/numIt, c='green')\n",
    "plt.plot(xs, probList, c='red')\n",
    "plt.xscale('log')\n",
    "plt.yscale('log')"
   ]
  },
  {
   "cell_type": "code",
   "execution_count": null,
   "id": "retained-professional",
   "metadata": {},
   "outputs": [],
   "source": [
    "plt.plot(base[:-1]+1, cumulative/numIt, c='blue')\n",
    "plt.plot(baseS[:-1]+1, cumulativeS/numIt, c='green')\n",
    "plt.plot(xs, probList, c='red')\n",
    "plt.xscale('log')"
   ]
  },
  {
   "cell_type": "code",
   "execution_count": null,
   "id": "compact-dispatch",
   "metadata": {},
   "outputs": [],
   "source": []
  },
  {
   "cell_type": "code",
   "execution_count": null,
   "id": "canadian-universe",
   "metadata": {},
   "outputs": [],
   "source": []
  }
 ],
 "metadata": {
  "kernelspec": {
   "display_name": "Python 3.8 (conda)",
   "language": "python",
   "name": "python38-conda"
  },
  "language_info": {
   "codemirror_mode": {
    "name": "ipython",
    "version": 3
   },
   "file_extension": ".py",
   "mimetype": "text/x-python",
   "name": "python",
   "nbconvert_exporter": "python",
   "pygments_lexer": "ipython3",
   "version": "3.8.5"
  }
 },
 "nbformat": 4,
 "nbformat_minor": 5
}
