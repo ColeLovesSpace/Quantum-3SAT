{
 "cells": [
  {
   "cell_type": "markdown",
   "id": "lucky-nutrition",
   "metadata": {},
   "source": [
    "# Direct Comparison of Quantum 3SAT algorithm, QAOASAT, and classical counterpart.  "
   ]
  },
  {
   "cell_type": "markdown",
   "id": "brown-paintball",
   "metadata": {},
   "source": [
    "## Shared functions/dependencies "
   ]
  },
  {
   "cell_type": "code",
   "execution_count": 1,
   "id": "instrumental-tribune",
   "metadata": {
    "tags": []
   },
   "outputs": [],
   "source": [
    "# Needed for functions\n",
    "import time\n",
    "import numpy as np\n",
    "from numpy import pi\n",
    "from copy import deepcopy\n",
    "import pandas as pd\n",
    "import matplotlib.pyplot as plt\n",
    "from collections import Counter\n",
    "import random\n",
    "from QSAT import *\n",
    "from Shonings import *\n",
    "\n",
    "#import packages for classical algorithm\n",
    "import ctypes\n",
    "from numpy import ctypeslib as npct\n",
    "\n",
    "#import packages for quantum algorithm\n",
    "from qiskit import *\n",
    "from qiskit.tools.jupyter import *\n",
    "from qiskit.visualization import *\n",
    "import qiskit.quantum_info as qi\n",
    "\n",
    "from qiskit import Aer, transpile\n",
    "# import qiskit.providers.aer\n",
    "from qiskit_aer import AerError\n",
    "\n",
    "from scipy.optimize import minimize"
   ]
  },
  {
   "cell_type": "markdown",
   "id": "continent-sender",
   "metadata": {},
   "source": []
  },
  {
   "cell_type": "markdown",
   "id": "beginning-solid",
   "metadata": {},
   "source": [
    "## Exhaustive search for solution"
   ]
  },
  {
   "cell_type": "markdown",
   "id": "tribal-spray",
   "metadata": {},
   "source": [
    "Helper functions for classical exhaustive search of solutions to SAT instance"
   ]
  },
  {
   "cell_type": "code",
   "execution_count": 2,
   "id": "ongoing-corps",
   "metadata": {
    "tags": []
   },
   "outputs": [],
   "source": [
    "def checkSAT(SAT, state, c, n):\n",
    "        \n",
    "    for t in range(c):\n",
    "        # //get the variables the clause is interested in\n",
    "        seive = (1 << (abs(int(SAT[t][0])) - 1)) + (1 << (int(abs(SAT[t][1])) - 1)) + (1 << (int(abs(SAT[t][2])) - 1))\n",
    "        # //get the values in the clause to xor\n",
    "        gate = 0\n",
    "            \n",
    "        if (SAT[t][0] > 0):\n",
    "            gate += 1 << (abs(int((SAT[t][0]))) - 1)\n",
    "        if (SAT[t][1] > 0):\n",
    "            gate += 1 << (abs(int((SAT[t][1]))) - 1)\n",
    "        if (SAT[t][2] > 0):\n",
    "            gate += 1 << (abs(int((SAT[t][2]))) - 1)\n",
    "\n",
    "        a = seive & state\n",
    "        b = gate ^ a\n",
    "\n",
    "        if (b == 0):\n",
    "            return False\n",
    "    return True\n",
    "\n",
    "def exhausting(SAT,c,n):\n",
    "    solutions = []\n",
    "#     for t in range(c):\n",
    "#         print((int(SAT[t][0])),\" \",(int(SAT[t][1])),\" \",(int(SAT[t][2])))\n",
    "    \n",
    "    for s in range(0,2**n):\n",
    "        state = int(s)\n",
    "        if(checkSAT(SAT, state, c, n)):\n",
    "            solutions.append(state)\n",
    "    return solutions\n",
    "            "
   ]
  },
  {
   "cell_type": "code",
   "execution_count": 3,
   "id": "popular-valuable",
   "metadata": {
    "tags": []
   },
   "outputs": [],
   "source": [
    "# SAT = buildSatSingleSolution(n)\n",
    "# # random.shuffle(SAT)\n",
    "# solutions = exhausting(SAT,c,n)\n",
    "# print(solutions)\n",
    "\n",
    "# myKeys = list(res.keys())\n",
    "# myKeys.sort()\n",
    "# sorted_dict = {i: res[i] for i in myKeys}\n",
    " \n",
    "# print(sorted_dict)\n",
    "# plt.plot(list(map(int,sorted_dict.keys())),sorted_dict.values())"
   ]
  },
  {
   "cell_type": "markdown",
   "id": "smoking-nitrogen",
   "metadata": {},
   "source": [
    "# Test and compare quantum and classical algorithms"
   ]
  },
  {
   "cell_type": "code",
   "execution_count": 25,
   "id": "renewable-applicant",
   "metadata": {
    "tags": []
   },
   "outputs": [],
   "source": [
    "def setup(n,nc,nSAT):\n",
    "    par = {}\n",
    "    par['nQ'] = n\n",
    "    par['nC'] = nc\n",
    "    par['nSAT'] = nSAT\n",
    "    par['sat'] = buildSatSingleSolution(par['nQ'])\n",
    "    par['nC'] = len(par['sat'])\n",
    "    par['satList'] = SATset(n,nc,nSAT)\n",
    "    par['numRepeats'] = 1000\n",
    "    par['numIt'] = nc\n",
    "    par['maxIt'] = nc\n",
    "    \n",
    "#     par['theta'] = -np.pi/2\n",
    "#     par['lambda'] = np.pi/2\n",
    "    \n",
    "    par['gamma'] = 2.008e+00 \n",
    "    par['beta'] = -2.395e-04     \n",
    "   \n",
    "    \n",
    "    #Plotting Conditionals\n",
    "    par['latex'] = True\n",
    "    par['statevector'] = True\n",
    "    par['saveEnd'] = False\n",
    "    par['figName'] = \"plots/QAOASAT/{:0>3}.png\".format(par['nQ'])\n",
    "    par['xAsis'] = \"$\\frac{c}{v}$\"\n",
    "    par['yAsis'] = \"$P(\\text{solved})_{i<\"+\"+{}\".format(par['maxIt'])+\"}$\"\n",
    "    \n",
    "    par['measure'] = False\n",
    "    par['had'] = True\n",
    "    \n",
    "    par['gpu'] = False\n",
    "    \n",
    "    state = ''\n",
    "    for q in range(n):\n",
    "        state = state + '0'\n",
    "    par['state'] = state\n",
    "    \n",
    "    return par"
   ]
  },
  {
   "cell_type": "markdown",
   "id": "offshore-abortion",
   "metadata": {},
   "source": [
    "Initialize parameters for SAT instance"
   ]
  },
  {
   "cell_type": "code",
   "execution_count": 26,
   "id": "according-owner",
   "metadata": {},
   "outputs": [],
   "source": [
    "par = setup(4,16,1)"
   ]
  },
  {
   "cell_type": "markdown",
   "id": "supported-panel",
   "metadata": {},
   "source": [
    "Run statistical test of modified Shonings algorithm"
   ]
  },
  {
   "cell_type": "markdown",
   "id": "civil-speaking",
   "metadata": {},
   "source": [
    "Run statistical test of regular Shonings algorithm"
   ]
  },
  {
   "cell_type": "code",
   "execution_count": null,
   "id": "homeless-fusion",
   "metadata": {},
   "outputs": [],
   "source": []
  },
  {
   "cell_type": "markdown",
   "id": "greek-lloyd",
   "metadata": {},
   "source": [
    "Run test of quantum algorithm"
   ]
  },
  {
   "cell_type": "code",
   "execution_count": 27,
   "id": "american-breath",
   "metadata": {},
   "outputs": [
    {
     "name": "stdout",
     "output_type": "stream",
     "text": [
      "[7]\n",
      "[[-1, -2, -3], [-1, 2, 3], [1, -2, 3], [1, 2, -3], [-1, -2, 3], [-1, 2, -3], [1, -2, -3], [2, 3, 4], [-2, -3, -4], [-2, -3, 4]]\n"
     ]
    }
   ],
   "source": [
    "solutions = exhausting(par['sat'],par['nC'],par['nQ'])\n",
    "print(solutions)\n",
    "print(par['sat'])"
   ]
  },
  {
   "cell_type": "code",
   "execution_count": 28,
   "id": "unexpected-reporter",
   "metadata": {},
   "outputs": [],
   "source": [
    "def toMin2(phases):\n",
    "    probList3 = []\n",
    "        \n",
    "    par['gamma'] = phases[0]\n",
    "    par['beta'] = phases[1]\n",
    "#     par['numIt']  = phases[2]\n",
    "\n",
    "    qc2 = buildCircuitCost(par,False)\n",
    "\n",
    "    if(par['statevector']):\n",
    "        # Execute and get counts\n",
    "        DM2 = qi.DensityMatrix.from_instruction(qc2)\n",
    "        # probs = DM.probabilities_dict()\n",
    "        DM22 = qi.partial_trace(DM2,[par['nQ']])\n",
    "        probs2 = DM22.probabilities_dict()\n",
    "#         entropyList2.append(qi.entropy(DM22))\n",
    "\n",
    "#     print(\"Iteration \" + str(it) + \" took \" + str(start-time.time()))\n",
    "\n",
    "    names2 = list(probs2.keys())\n",
    "    values2 = list(probs2.values())\n",
    "#         print(names2)\n",
    "#         print(values2)\n",
    "\n",
    "    totalProb2 = 0\n",
    "#         print(solutions)\n",
    "    for s in solutions:\n",
    "#             print(s)\n",
    "        totalProb2 += probs2[f'{s:04b}']\n",
    "#     probList2.append(totalProb2)\n",
    "\n",
    "    return 1 - totalProb2"
   ]
  },
  {
   "cell_type": "code",
   "execution_count": 29,
   "id": "pleased-argentina",
   "metadata": {},
   "outputs": [],
   "source": [
    "par = setup(6,16,1)"
   ]
  },
  {
   "cell_type": "code",
   "execution_count": 31,
   "id": "growing-banks",
   "metadata": {},
   "outputs": [
    {
     "name": "stdout",
     "output_type": "stream",
     "text": [
      "[1. 1.]\n",
      "[1. 1.]\n",
      "[1.90519105 0.98518531]\n",
      "[1.84448363 1.19454082]\n",
      "[1.30976806 0.85146793]\n",
      "[1.00565486 0.66419003]\n",
      "[0.8389714  0.55509021]\n",
      "[2.50855606 1.41357554]\n",
      "[2.0532508  1.17957755]\n",
      "[1.65908051 1.1122262 ]\n",
      "[1.79158517 1.22102663]\n",
      "[1.25275717 0.9288467 ]\n",
      "[0.38994696 0.26336432]\n",
      "[2.13371498 1.11982458]\n",
      "[1.94772704 1.05345064]\n",
      "[1.79313708 0.97954676]\n",
      "Iteration 1 took -0.12695837020874023\n",
      "Iteration 2 took -0.2225806713104248\n",
      "Iteration 3 took -0.3217782974243164\n",
      "Iteration 4 took -0.4203615188598633\n",
      "Iteration 5 took -0.5051476955413818\n",
      "Iteration 6 took -0.6027975082397461\n",
      "Iteration 7 took -0.7717726230621338\n",
      "Iteration 8 took -0.8076543807983398\n",
      "Iteration 9 took -0.8989458084106445\n",
      "Iteration 10 took -1.0451116561889648\n",
      "Iteration 11 took -1.161022663116455\n",
      "Iteration 12 took -1.1831793785095215\n",
      "Iteration 13 took -1.3301045894622803\n",
      "Iteration 14 took -1.4521992206573486\n",
      "Iteration 15 took -1.4655811786651611\n",
      "Iteration 16 took -1.6292083263397217\n",
      "16\n"
     ]
    },
    {
     "data": {
      "text/plain": [
       "<matplotlib.legend.Legend at 0x15550d005100>"
      ]
     },
     "execution_count": 31,
     "metadata": {},
     "output_type": "execute_result"
    },
    {
     "data": {
      "image/png": "[encoded data removed]",
      "text/plain": [
       "<Figure size 432x288 with 1 Axes>"
      ]
     },
     "metadata": {
      "needs_background": "light"
     },
     "output_type": "display_data"
    }
   ],
   "source": [
    "maxIt = par['maxIt']#c#n**2\n",
    "\n",
    "probListGamma = []\n",
    "probList2 = []\n",
    "xs = np.linspace(1,maxIt,num = maxIt,dtype='int')\n",
    "# par['sat'] = par['satList'][0]\n",
    "# gammaList = np.linspace(0,2*np.pi,num = 6,dtype='float')\n",
    "\n",
    "for g in range(maxIt):\n",
    "    probListGamma.append([]) \n",
    "    \n",
    "phaseList = []\n",
    "gammaList = []\n",
    "for g in range(maxIt):\n",
    "    gammaList.append(g)\n",
    "    par['numIt'] = g\n",
    "    sendIt = [1.0,1.0]\n",
    "    res = minimize(toMin2,sendIt,method='COBYLA',options={'disp': True, 'maxiter':50})\n",
    "    phaseList.append(res.x)\n",
    "    print(res.x)\n",
    "an = par['nQ']\n",
    "# print(gammaList)\n",
    "for it in xs:\n",
    "    par['numIt']  = it\n",
    "    \n",
    "#     shots = 10000 \n",
    "\n",
    "    start = time.time()\n",
    "    qc2 = buildCircuit(par,False)\n",
    "\n",
    "    if(par['statevector']):\n",
    "        # Execute and get counts\n",
    "        DM2 = qi.DensityMatrix.from_instruction(qc2)\n",
    "        # probs = DM.probabilities_dict()\n",
    "        DM22 = qi.partial_trace(DM2,[par['nQ']])\n",
    "        probs2 = DM22.probabilities_dict()\n",
    "\n",
    "    names2 = list(probs2.keys())\n",
    "    values2 = list(probs2.values())\n",
    "\n",
    "    totalProb2 = 0\n",
    "    \n",
    "    for s in solutions:\n",
    "        totalProb2 += probs2[f'{s:>0{an}b}']\n",
    "    probList2.append(totalProb2)\n",
    "    \n",
    "    for g in range(maxIt):\n",
    "        \n",
    "        par['gamma'] = phaseList[g][0]\n",
    "        par['beta'] = phaseList[g][1]\n",
    "        \n",
    "        \n",
    "        qc2 = buildCircuitCost(par,False)\n",
    "#         totalProb = 0\n",
    "#         for s in solutions:\n",
    "#             totalProb += list(probs.values())[s]\n",
    "#         probList.append(totalProb)\n",
    "\n",
    "        if(par['statevector']):\n",
    "            # Execute and get counts\n",
    "            DM2 = qi.DensityMatrix.from_instruction(qc2)\n",
    "            # probs = DM.probabilities_dict()\n",
    "            DM22 = qi.partial_trace(DM2,[par['nQ']])\n",
    "            probs2 = DM22.probabilities_dict()\n",
    "\n",
    "        \n",
    "\n",
    "        names2 = list(probs2.keys())\n",
    "        values2 = list(probs2.values())\n",
    "\n",
    "        totalProb2 = 0\n",
    "        for s in solutions:\n",
    "            totalProb2 += probs2[f'{s:>0{an}b}']\n",
    "        probListGamma[g].append(totalProb2)\n",
    "      \n",
    "    print(\"Iteration \" + str(it) + \" took \" + str(start-time.time()))\n",
    "    \n",
    "for li in range(len(probListGamma)):\n",
    "    name = \"QAOA g=\"+ str(gammaList[li])\n",
    "    plt.plot(xs, probListGamma[li] ,label=name)\n",
    "    \n",
    "print(len(probList2))\n",
    "plt.plot(xs, probList2 ,label=\"QSAT\")\n",
    "    \n",
    "\n",
    "    \n",
    "plt.legend()"
   ]
  },
  {
   "cell_type": "code",
   "execution_count": null,
   "id": "worthy-patch",
   "metadata": {},
   "outputs": [],
   "source": [
    "def toMin(phases):\n",
    "    probList3 = []\n",
    "    # Initialize a GPU backend\n",
    "    # Note that the cloud instance for tutorials does not have a GPU\n",
    "    # so this will raise an exception.\n",
    "    try:\n",
    "        simulator_density_matrix = Aer.get_backend('aer_simulator_density_matrix')\n",
    "#         simulator_density_matrix = Aer.get_backend('aer_simulator_statevector')\n",
    "        simulator_density_matrix.set_options(device='GPU')\n",
    "#         config = simulator_density_matrix.configuration()\n",
    "#         print(str(config.multi_meas_enabled))\n",
    "    except AerError as e:\n",
    "        print(e)\n",
    "        \n",
    "    par['gamma'] = phases[0]\n",
    "    par['beta'] = phases[1]\n",
    "    par['numIt']  = 6\n",
    "    shots = 10000\n",
    "\n",
    "#     # Build circuit\n",
    "#     start = time.time()\n",
    "#     qc = buildCircuit(par,True)\n",
    "#     circ = transpile(qc, simulator_density_matrix, optimization_level=0)\n",
    "#     job_density_matrix = simulator_density_matrix.run(circ, shots=shots)\n",
    "#     counts_density_matrix = job_density_matrix.result().get_counts(0)\n",
    "\n",
    "#     print(\"Iteration \" + str(it) + \" took \" + str(start-time.time()))\n",
    "\n",
    "#     total = 0\n",
    "#     for state in counts_density_matrix:\n",
    "#         if(checkSAT(par['sat'], int(state, 2), len(par['sat']), par['nQ'])):\n",
    "#             total += counts_density_matrix[state]\n",
    "\n",
    "#     probList.append(total/shots)\n",
    "\n",
    "    # Build circuit\n",
    "#     start = time.time()\n",
    "#     qc2 = buildCircuitMeasure(par,True)\n",
    "#     circ2 = transpile(qc2, simulator_density_matrix, optimization_level=0)\n",
    "#     job_density_matrix2 = simulator_density_matrix.run(circ2, shots=shots)#,dynamic=True\n",
    "#     counts_density_matrix2 = job_density_matrix2.result().get_counts(0)\n",
    "\n",
    "#     print(\"Iteration \" + str(it) + \" took \" + str(start-time.time()))\n",
    "# #         print(counts_density_matrix2)\n",
    "#     total2 = 0\n",
    "#     for state in counts_density_matrix2:\n",
    "# #             print(state)\n",
    "#         if(checkSAT(par['sat'], int(state, 2), len(par['sat']), par['nQ'])):\n",
    "#             total2 += counts_density_matrix2[state]\n",
    "\n",
    "#     probList2.append(total2/shots)\n",
    "\n",
    "    # Build circuit\n",
    "    start = time.time()\n",
    "    qc3 = buildCircuitCost(par,True)\n",
    "    circ3 = transpile(qc3, simulator_density_matrix, optimization_level=0)\n",
    "    job_density_matrix3 = simulator_density_matrix.run(circ3, shots=shots)#,dynamic=True\n",
    "    counts_density_matrix3 = job_density_matrix3.result().get_counts(0)\n",
    "\n",
    "    print(\"Iteration cost\" + str(it) + \" took \" + str(start-time.time()))\n",
    "#         print(counts_density_matrix2)\n",
    "    total3 = 0\n",
    "    for state in counts_density_matrix3:\n",
    "#             print(state)\n",
    "        if(checkSAT(par['sat'], int(state, 2), len(par['sat']), par['nQ'])):\n",
    "            total3 += counts_density_matrix3[state]\n",
    "\n",
    "    return 1 - total3/shots"
   ]
  },
  {
   "cell_type": "code",
   "execution_count": null,
   "id": "photographic-timber",
   "metadata": {},
   "outputs": [],
   "source": [
    "sendIt = [1.0,1.0]\n",
    "res = minimize(toMin2,sendIt,method='COBYLA')\n",
    "print(res.x)\n",
    "print(sendIt)"
   ]
  },
  {
   "cell_type": "code",
   "execution_count": null,
   "id": "sustainable-alexander",
   "metadata": {},
   "outputs": [],
   "source": [
    "print(probList[-1])"
   ]
  },
  {
   "cell_type": "code",
   "execution_count": null,
   "id": "sacred-poison",
   "metadata": {},
   "outputs": [],
   "source": [
    "plt.plot(base[:-1]+1, cumulative/numIt, c='blue')\n",
    "plt.plot(baseS[:-1]+1, cumulativeS/numIt, c='green')\n",
    "plt.plot(xs, probList, c='red')\n",
    "plt.xscale('log')\n",
    "plt.yscale('log')"
   ]
  },
  {
   "cell_type": "code",
   "execution_count": null,
   "id": "handled-forward",
   "metadata": {},
   "outputs": [],
   "source": [
    "plt.plot(base[:-1]+1, cumulative/numIt, c='blue')\n",
    "plt.plot(baseS[:-1]+1, cumulativeS/numIt, c='green')\n",
    "plt.plot(xs, probList, c='red')\n",
    "plt.xscale('log')"
   ]
  },
  {
   "cell_type": "code",
   "execution_count": null,
   "id": "loving-attendance",
   "metadata": {},
   "outputs": [],
   "source": []
  },
  {
   "cell_type": "code",
   "execution_count": null,
   "id": "collective-maldives",
   "metadata": {},
   "outputs": [],
   "source": []
  }
 ],
 "metadata": {
  "kernelspec": {
   "display_name": "Python 3.8 (conda)",
   "language": "python",
   "name": "python38-conda"
  },
  "language_info": {
   "codemirror_mode": {
    "name": "ipython",
    "version": 3
   },
   "file_extension": ".py",
   "mimetype": "text/x-python",
   "name": "python",
   "nbconvert_exporter": "python",
   "pygments_lexer": "ipython3",
   "version": "3.8.5"
  }
 },
 "nbformat": 4,
 "nbformat_minor": 5
}
