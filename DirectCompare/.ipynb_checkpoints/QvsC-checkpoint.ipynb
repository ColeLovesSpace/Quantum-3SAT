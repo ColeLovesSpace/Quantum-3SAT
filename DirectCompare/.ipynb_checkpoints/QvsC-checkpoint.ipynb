{
 "cells": [
  {
   "cell_type": "markdown",
   "id": "literary-stock",
   "metadata": {},
   "source": [
    "# Direct Comparison of Quantum 3SAT algorithm and classical counterpart.  "
   ]
  },
  {
   "cell_type": "markdown",
   "id": "therapeutic-wrist",
   "metadata": {},
   "source": [
    "## Shared functions/dependencies "
   ]
  },
  {
   "cell_type": "code",
   "execution_count": 1,
   "id": "subjective-disabled",
   "metadata": {
    "jupyter": {
     "source_hidden": true
    },
    "tags": []
   },
   "outputs": [],
   "source": [
    "# Needed for functions\n",
    "import time\n",
    "import numpy as np\n",
    "from numpy import pi\n",
    "from copy import deepcopy\n",
    "import pandas as pd\n",
    "import matplotlib.pyplot as plt\n",
    "from collections import Counter\n",
    "import random\n",
    "\n",
    "#import packages for classical algorithm\n",
    "import ctypes\n",
    "from numpy import ctypeslib as npct\n",
    "\n",
    "#import packages for quantum algorithm\n",
    "from qiskit import *\n",
    "from qiskit.tools.jupyter import *\n",
    "from qiskit.visualization import *\n",
    "import qiskit.quantum_info as qi"
   ]
  },
  {
   "cell_type": "markdown",
   "id": "musical-alert",
   "metadata": {
    "tags": []
   },
   "source": [
    "Build 3SAT instance with only one solution"
   ]
  },
  {
   "cell_type": "code",
   "execution_count": 2,
   "id": "separated-darkness",
   "metadata": {
    "jupyter": {
     "source_hidden": true
    },
    "tags": []
   },
   "outputs": [],
   "source": [
    "# def buildSatSingleSolution(numVar):\n",
    "#     sat = [[-1,-2,-3],[-1,2,3],[1,-2,3],[1,2,-3],[-1,-2,3],[-1,2,-3],[1,-2,-3]]\n",
    "#     for n in range(4,numVar+1):\n",
    "#         sat.append([-2,-3,-n])\n",
    "#         sat.append([2,3,-n])\n",
    "#         sat.append([-2,-3,n])\n",
    "#     return sat\n",
    "\n",
    "def buildSatSingleSolution(numVar):\n",
    "    sat = [[-1,-2,-3],[-1,2,3],[1,-2,3],[1,2,-3],[-1,-2,3],[-1,2,-3],[1,-2,-3]]\n",
    "    for n in range(4,numVar+1):\n",
    "        sat.append([2,3,n])\n",
    "        sat.append([-2,-3,-n])\n",
    "        sat.append([-2,-3,n])\n",
    "        \n",
    "    return sat"
   ]
  },
  {
   "cell_type": "markdown",
   "id": "noble-corporation",
   "metadata": {},
   "source": [
    "## Stochastic algorithm"
   ]
  },
  {
   "cell_type": "markdown",
   "id": "herbal-posting",
   "metadata": {},
   "source": [
    "Get c++ function to run stochastic algorithm"
   ]
  },
  {
   "cell_type": "code",
   "execution_count": 3,
   "id": "flexible-corporation",
   "metadata": {
    "tags": []
   },
   "outputs": [],
   "source": [
    "#initialize variables for classical solver\n",
    "array_1d_double = npct.ndpointer(dtype=np.double, ndim=1, flags='CONTIGUOUS')\n",
    "array_1d_int = npct.ndpointer(dtype=np.int_, ndim=1, flags='CONTIGUOUS')\n",
    "\n",
    "c_lib_numpy = npct.load_library(\"lib/SATProbCalc.so\", \".\")\n",
    "\n",
    "c_lib_numpy.SolveSATbpp.restype = ctypes.c_int #ctypes.POINTER(ctypes.c_double * (10**2))\n",
    "c_lib_numpy.SolveSATbpp.argtypes = [ctypes.c_int, array_1d_double, ctypes.c_int, ctypes.c_int]\n",
    "\n",
    "c_lib_numpy.Shoning.restype = ctypes.c_int #ctypes.POINTER(ctypes.c_double * (10**2))\n",
    "c_lib_numpy.Shoning.argtypes = [ctypes.c_int, array_1d_double, ctypes.c_int, ctypes.c_int]\n",
    "\n",
    "def SolveSATbpp(n, sat, clauses, iterations):\n",
    "    steps = c_lib_numpy.SolveSATbpp(n, sat.flatten(), clauses, iterations)\n",
    "    return steps\n",
    "\n",
    "def Shoning(n, sat, clauses, iterations):\n",
    "    steps = c_lib_numpy.Shoning(n, sat.flatten(), clauses, iterations)\n",
    "    return steps"
   ]
  },
  {
   "cell_type": "markdown",
   "id": "smoking-skirt",
   "metadata": {},
   "source": [
    "Functions for getting probability of finding solution with stochastic algorithm"
   ]
  },
  {
   "cell_type": "code",
   "execution_count": 4,
   "id": "veterinary-cinema",
   "metadata": {
    "jupyter": {
     "source_hidden": true
    },
    "tags": []
   },
   "outputs": [],
   "source": [
    "def classicalStatistics(n, SAT, c, i, numRuns):\n",
    "    stepList = []\n",
    "    for x in range(numRuns):\n",
    "        stepList.append(SolveSATbpp(n, SAT, c, i))\n",
    "#     counter = Counter(stepList)\n",
    "#     res = {item: count for item, count in counter.items()}\n",
    "#     print(res)\n",
    "    return stepList\n",
    "\n",
    "def classicalSolve2(n,SAT,c,i,numIt):\n",
    "\n",
    "    SAT = np.array(SAT).astype('double')\n",
    "#     for x in range(len(SAT)):\n",
    "#         SAT[x] = -SAT[x]\n",
    "\n",
    "    start = time.time()\n",
    "    res = classicalStatistics(n, SAT, c, i, numIt)\n",
    "    print(\"C++ time to solve: \" , start - time.time())\n",
    "\n",
    "    return res\n",
    "\n",
    "def classicalSolve(n,SAT,c,i,numIt):\n",
    "\n",
    "    SAT = np.array(SAT).astype('double')\n",
    "#     for x in range(len(SAT)):\n",
    "#         SAT[x] = -SAT[x]\n",
    "    # print(SAT)\n",
    "\n",
    "    start = time.time()\n",
    "    res = classicalStatistics(n, SAT, c, i, numIt)\n",
    "    print(\"C++ time to solve: \" , start - time.time())\n",
    "\n",
    "    return res"
   ]
  },
  {
   "cell_type": "markdown",
   "id": "facial-supplement",
   "metadata": {},
   "source": [
    "## Quantum algorithm"
   ]
  },
  {
   "cell_type": "markdown",
   "id": "quick-somerset",
   "metadata": {},
   "source": [
    "Helper functions / gates"
   ]
  },
  {
   "cell_type": "code",
   "execution_count": 5,
   "id": "alternative-engine",
   "metadata": {
    "jupyter": {
     "source_hidden": true
    },
    "tags": []
   },
   "outputs": [],
   "source": [
    "def OR(a,b,c,d,e,circuit):\n",
    "    circuit.x(a)\n",
    "    circuit.x(b)\n",
    "    circuit.x(c)\n",
    "    circuit.ccx(a,b,d)\n",
    "    circuit.ccx(c,d,e)\n",
    "    circuit.x(a)\n",
    "    circuit.x(b)\n",
    "    circuit.x(c)\n",
    "    circuit.x(e)\n",
    "    circuit.reset(d)\n",
    "\n",
    "def AND(a,b,c,d,e,circuit):\n",
    "    circuit.ccx(a,b,d)\n",
    "    circuit.ccx(c,d,e)\n",
    "    circuit.reset(d)\n",
    "    \n",
    "def had3(e,a,b,c,circuit,par):\n",
    "    circuit.ch(e,abs(a)-1)\n",
    "    circuit.ch(e,abs(b)-1)\n",
    "    circuit.ch(e,abs(c)-1)\n",
    "    \n",
    "def hadAll(e,a,b,c,circuit,par):\n",
    "    for b in range(par['nQ']):\n",
    "        circuit.ch(e,b)\n",
    "#     circuit.ch(e,abs(a)-1)\n",
    "#     circuit.ch(e,abs(b)-1)\n",
    "#     circuit.ch(e,abs(c)-1)\n",
    "    \n",
    "        \n",
    "def remStates(a,b,c,d,circuit):\n",
    "    if a < 0:\n",
    "        circuit.x(abs(a)-1)\n",
    "    if b < 0:\n",
    "        circuit.x(abs(b)-1)\n",
    "    if c < 0:\n",
    "        circuit.x(abs(c)-1)\n",
    "    \n",
    "    circuit.rcccx(abs(a)-1,abs(b)-1,abs(c)-1,d)\n",
    "        \n",
    "    if a < 0:\n",
    "        circuit.x(abs(a)-1)\n",
    "    if b < 0:\n",
    "        circuit.x(abs(b)-1)\n",
    "    if c < 0:\n",
    "        circuit.x(abs(c)-1)\n",
    "         \n",
    "def endRem(a,b,c,d,e,circuit):\n",
    "    if a < 0:\n",
    "        circuit.x(abs(a)-1)\n",
    "    if b < 0:\n",
    "        circuit.x(abs(b)-1)\n",
    "    if c < 0:\n",
    "        circuit.x(abs(c)-1)\n",
    "        \n",
    "def qft3(c,q1,q2,q3):\n",
    "    c.h(abs(q3)-1)\n",
    "    c.cp(pi/4, abs(q1)-1, abs(q3)-1)\n",
    "    c.cp(pi/2, abs(q2)-1, abs(q3)-1)\n",
    "    c.h(abs(q2)-1)\n",
    "    c.cp(pi/2, abs(q1)-1, abs(q2)-1)\n",
    "    c.h(abs(q1)-1)\n",
    "    c.swap(abs(q1)-1,abs(q3)-1)\n",
    "    \n",
    "def qft3i(c,q1,q2,q3):\n",
    "    c.swap(abs(q1)-1,abs(q3)-1)\n",
    "    c.h(abs(q1)-1)\n",
    "    c.cp(-pi/2, abs(q1)-1, abs(q2)-1)\n",
    "    c.h(abs(q2)-1)\n",
    "    c.cp(-pi/2, abs(q2)-1, abs(q3)-1)\n",
    "    c.cp(-pi/4, abs(q1)-1, abs(q3)-1)\n",
    "    c.h(abs(q3)-1)\n",
    "\n",
    "def qft_rotations(circuit, n):\n",
    "    \"\"\"Performs qft on the first n qubits in circuit (without swaps)\"\"\"\n",
    "    if n == 0:\n",
    "        return circuit\n",
    "    n -= 1\n",
    "    circuit.h(n)\n",
    "    for qubit in range(n):\n",
    "        circuit.cp(pi/2**(n-qubit), qubit, n)\n",
    "    # At the end of our function, we call the same function again on\n",
    "    # the next qubits (we reduced n by one earlier in the function)\n",
    "    qft_rotations(circuit, n)\n",
    "    \n",
    "def swap_registers(circuit, n):\n",
    "    for qubit in range(n//2):\n",
    "        circuit.swap(qubit, n-qubit-1)\n",
    "    return circuit\n",
    "\n",
    "def qft(circuit, n):\n",
    "    \"\"\"QFT on the first n qubits in circuit\"\"\"\n",
    "    qft_rotations(circuit, n)\n",
    "    swap_registers(circuit, n)\n",
    "    return circuit\n",
    "\n",
    "def inverse_qft(circuit, n, s):\n",
    "    \"\"\"Does the inverse QFT on the first n qubits in circuit\"\"\"\n",
    "    # First we create a QFT circuit of the correct size:\n",
    "    qft_circ = qft(QuantumCircuit(n), n)\n",
    "    # Then we take the inverse of this circuit\n",
    "    invqft_circ = qft_circ.inverse()\n",
    "    # And add it to the first n qubits in our existing circuit\n",
    "    circuit.append(invqft_circ, circuit.qubits[s:n+s])\n",
    "    return circuit.decompose() # .decompose() allows us to see the individual gates\n",
    "    "
   ]
  },
  {
   "cell_type": "markdown",
   "id": "alert-pennsylvania",
   "metadata": {},
   "source": [
    "Build quantum circuit"
   ]
  },
  {
   "cell_type": "code",
   "execution_count": 6,
   "id": "existing-history",
   "metadata": {
    "jupyter": {
     "source_hidden": true
    },
    "tags": []
   },
   "outputs": [],
   "source": [
    "# SAT problem that will be implemented in circuit\n",
    "# sat = [[-1,-2,-3],[-1,2,3],[1,-2,3],[1,2,-3],[-1,-2,3],[-1,2,-3],[1,-2,-3],[-2,-3,4],[-2,-3,-4],[-2,-3,5],[-2,-3,-5],[-2,-3,6],[-2,-3,-6],[-2,-3,7],[-2,-3,-7],[2,3,4],[2,3,5],[2,3,6],[2,3,7]]\n",
    "\n",
    "def buildCircuit(par,measure):\n",
    "    helper = 1 #number of ancillary qubits\n",
    "    h = par['nQ'] #qubit that can be used for calculations\n",
    "\n",
    "    qr = QuantumRegister(par['nQ']+helper, 'q')\n",
    "    cr = ClassicalRegister(par['nQ'], 'c')\n",
    "    c = QuantumCircuit(qr, cr)\n",
    "\n",
    "    # Hadimard all qubits used in SAT\n",
    "    if par['had']:\n",
    "        for x in range(par['nQ']):\n",
    "            c.h(x)\n",
    "                \n",
    "    for n in range(par['numIt']): # Repeat circuit numIt times\n",
    "#         random.shuffle(par['sat'])\n",
    "        for clause in par['sat']: # loop through all clauses in the SAT instance\n",
    "            \n",
    "            \n",
    "            remStates(clause[0],clause[1],clause[2],h,c)\n",
    "            had3(h,clause[0],clause[1],clause[2],c,par)\n",
    "            c.reset(h)\n",
    "            \n",
    "            c.barrier(qr)  \n",
    "            \n",
    "    if measure:\n",
    "        c.measure(qr[:-1],cr)\n",
    "            \n",
    "    return c"
   ]
  },
  {
   "cell_type": "code",
   "execution_count": 7,
   "id": "nervous-senate",
   "metadata": {
    "jupyter": {
     "source_hidden": true
    },
    "tags": []
   },
   "outputs": [],
   "source": [
    "def setup(nQ):\n",
    "    par = {}\n",
    "    par['nQ'] = nQ\n",
    "\n",
    "    #Plotting Conditionals\n",
    "    par['latex'] = True\n",
    "    par['statevector'] = True\n",
    "    par['measure'] = False\n",
    "    par['saveEnd'] = False\n",
    "    par['figName'] = \"Plots/TestSave2/{:0>6}.png\"\n",
    "    par['sat'] = buildSatSingleSolution(par['nQ'])#[[1,2,3],[4,5,6]]\n",
    "    par['numIt'] = len(par['sat'])\n",
    "    par['had'] = True;\n",
    "    print(par['numIt'])\n",
    "    state = ''\n",
    "    for q in range(nQ):\n",
    "        state = state + '0'\n",
    "    par['state'] = state\n",
    "    \n",
    "    return par"
   ]
  },
  {
   "cell_type": "markdown",
   "id": "monthly-basketball",
   "metadata": {},
   "source": [
    "## Exhaustive search for solution"
   ]
  },
  {
   "cell_type": "markdown",
   "id": "understanding-slope",
   "metadata": {},
   "source": [
    "Helper functions for classical exhaustive search of solutions to SAT instance"
   ]
  },
  {
   "cell_type": "code",
   "execution_count": 8,
   "id": "modern-thousand",
   "metadata": {
    "jupyter": {
     "source_hidden": true
    },
    "tags": []
   },
   "outputs": [],
   "source": [
    "def checkSAT(SAT, state, c, n):\n",
    "        \n",
    "    for t in range(c):\n",
    "        # //get the variables the clause is interested in\n",
    "        seive = (1 << (abs(int(SAT[t][0])) - 1)) + (1 << (int(abs(SAT[t][1])) - 1)) + (1 << (int(abs(SAT[t][2])) - 1))\n",
    "        # //get the values in the clause to xor\n",
    "        gate = 0\n",
    "            \n",
    "        if (SAT[t][0] > 0):\n",
    "            gate += 1 << (abs(int((SAT[t][0]))) - 1)\n",
    "        if (SAT[t][1] > 0):\n",
    "            gate += 1 << (abs(int((SAT[t][1]))) - 1)\n",
    "        if (SAT[t][2] > 0):\n",
    "            gate += 1 << (abs(int((SAT[t][2]))) - 1)\n",
    "\n",
    "        a = seive & state\n",
    "        b = gate ^ a\n",
    "\n",
    "        if (b == 0):\n",
    "            return False\n",
    "    return True\n",
    "\n",
    "def exhausting(SAT,c,n):\n",
    "#     print(1 << 1 == 2)\n",
    "    solutions = []\n",
    "    \n",
    "    for t in range(c):\n",
    "        print((int(SAT[t][0])),\" \",(int(SAT[t][1])),\" \",(int(SAT[t][2])))\n",
    "    \n",
    "    for s in range(0,2**n):\n",
    "        state = int(s)\n",
    "        if(checkSAT(SAT, state, c, n)):\n",
    "            solutions.append(state)\n",
    "    return solutions\n",
    "            "
   ]
  },
  {
   "cell_type": "code",
   "execution_count": 9,
   "id": "instant-carolina",
   "metadata": {
    "jupyter": {
     "source_hidden": true
    },
    "tags": []
   },
   "outputs": [],
   "source": [
    "# SAT = buildSatSingleSolution(n)\n",
    "# # random.shuffle(SAT)\n",
    "# solutions = exhausting(SAT,c,n)\n",
    "# print(solutions)\n",
    "\n",
    "# myKeys = list(res.keys())\n",
    "# myKeys.sort()\n",
    "# sorted_dict = {i: res[i] for i in myKeys}\n",
    " \n",
    "# print(sorted_dict)\n",
    "# plt.plot(list(map(int,sorted_dict.keys())),sorted_dict.values())"
   ]
  },
  {
   "cell_type": "code",
   "execution_count": 18,
   "id": "boring-probe",
   "metadata": {},
   "outputs": [
    {
     "name": "stdout",
     "output_type": "stream",
     "text": [
      "C++ time to solve:  -104.15711975097656\n"
     ]
    }
   ],
   "source": [
    "n = 9\n",
    "SAT = buildSatSingleSolution(n)\n",
    "c = 3*n -2\n",
    "i = 1000\n",
    "numIt = 10000000\n",
    "\n",
    "res = classicalSolve2(n,SAT,c,i,numIt)\n",
    "\n",
    "values, base = np.histogram(res, bins=40)\n",
    "#evaluate the cumulative\n",
    "cumulative = np.cumsum(values)\n",
    "# plot the cumulative function\n",
    "# plt.plot(base[:-1], cumulative/numIt, c='blue')"
   ]
  },
  {
   "cell_type": "code",
   "execution_count": 19,
   "id": "signed-bandwidth",
   "metadata": {
    "jupyter": {
     "source_hidden": true
    },
    "tags": []
   },
   "outputs": [],
   "source": [
    "# solutions = exhausting(SAT,c,n)\n",
    "# print(solutions)"
   ]
  },
  {
   "cell_type": "code",
   "execution_count": 20,
   "id": "public-former",
   "metadata": {
    "jupyter": {
     "source_hidden": true
    },
    "tags": []
   },
   "outputs": [
    {
     "name": "stdout",
     "output_type": "stream",
     "text": [
      "[AerSimulator('aer_simulator'), AerSimulator('aer_simulator_statevector'), AerSimulator('aer_simulator_statevector_gpu'), AerSimulator('aer_simulator_density_matrix'), AerSimulator('aer_simulator_density_matrix_gpu'), AerSimulator('aer_simulator_stabilizer'), AerSimulator('aer_simulator_matrix_product_state'), AerSimulator('aer_simulator_extended_stabilizer'), AerSimulator('aer_simulator_unitary'), AerSimulator('aer_simulator_unitary_gpu'), AerSimulator('aer_simulator_superop'), QasmSimulator('qasm_simulator'), StatevectorSimulator('statevector_simulator'), UnitarySimulator('unitary_simulator'), PulseSimulator('pulse_simulator')]\n"
     ]
    }
   ],
   "source": [
    "from qiskit import Aer, transpile\n",
    "# import qiskit.providers.aer\n",
    "from qiskit_aer import AerError\n",
    "\n",
    "print(Aer.backends())\n",
    "\n",
    "# Initialize a GPU backend\n",
    "# Note that the cloud instance for tutorials does not have a GPU\n",
    "# so this will raise an exception.\n",
    "try:\n",
    "    simulator_density_matrix = Aer.get_backend('aer_simulator_density_matrix')\n",
    "    simulator_density_matrix.set_options(device='GPU')\n",
    "except AerError as e:\n",
    "    print(e)\n",
    "\n"
   ]
  },
  {
   "cell_type": "code",
   "execution_count": 21,
   "id": "mexican-receiver",
   "metadata": {},
   "outputs": [
    {
     "name": "stdout",
     "output_type": "stream",
     "text": [
      "25\n",
      "Iteration 1 took -0.24331116676330566\n",
      "Iteration 2 took -0.3593578338623047\n",
      "Iteration 3 took -0.5928575992584229\n",
      "Iteration 4 took -0.7198770046234131\n",
      "Iteration 5 took -0.8543782234191895\n",
      "Iteration 6 took -0.9827501773834229\n",
      "Iteration 7 took -1.251887559890747\n",
      "Iteration 8 took -1.2612223625183105\n",
      "Iteration 9 took -1.5470004081726074\n",
      "Iteration 10 took -1.8112778663635254\n",
      "Iteration 11 took -1.7915256023406982\n",
      "Iteration 12 took -2.18074369430542\n",
      "Iteration 13 took -2.0859432220458984\n",
      "Iteration 14 took -2.4846436977386475\n",
      "Iteration 15 took -2.635751962661743\n",
      "Iteration 16 took -2.804816722869873\n",
      "Iteration 17 took -2.952192783355713\n",
      "Iteration 18 took -3.126051902770996\n",
      "Iteration 19 took -3.1307051181793213\n",
      "Iteration 20 took -3.4862773418426514\n",
      "Iteration 21 took -3.665390968322754\n",
      "Iteration 22 took -3.9821207523345947\n",
      "Iteration 23 took -3.831892728805542\n",
      "Iteration 24 took -4.279217481613159\n",
      "Iteration 25 took -4.2279157638549805\n",
      "Iteration 26 took -4.5364062786102295\n",
      "Iteration 27 took -4.455485820770264\n",
      "Iteration 28 took -4.90382981300354\n",
      "Iteration 29 took -5.034706354141235\n",
      "Iteration 30 took -5.083230972290039\n",
      "Iteration 31 took -5.2161970138549805\n",
      "Iteration 32 took -5.537821054458618\n",
      "Iteration 33 took -5.871226072311401\n",
      "Iteration 34 took -5.808260440826416\n",
      "Iteration 35 took -5.806894779205322\n",
      "Iteration 36 took -6.243627548217773\n",
      "Iteration 37 took -6.296218395233154\n",
      "Iteration 38 took -6.419637441635132\n",
      "Iteration 39 took -6.620384693145752\n",
      "Iteration 40 took -6.831384181976318\n",
      "Iteration 41 took -6.90678334236145\n",
      "Iteration 42 took -7.255502223968506\n",
      "Iteration 43 took -7.200276613235474\n",
      "Iteration 44 took -7.46631383895874\n",
      "Iteration 45 took -7.669340372085571\n",
      "Iteration 46 took -7.3308470249176025\n",
      "Iteration 47 took -8.246325254440308\n",
      "Iteration 48 took -8.158085346221924\n",
      "Iteration 49 took -8.12854790687561\n",
      "Iteration 50 took -8.559447526931763\n",
      "Iteration 51 took -8.666141271591187\n",
      "Iteration 52 took -8.7227041721344\n",
      "Iteration 53 took -8.834244728088379\n",
      "Iteration 54 took -9.00055742263794\n",
      "Iteration 55 took -9.19341254234314\n",
      "Iteration 56 took -9.31808614730835\n",
      "Iteration 57 took -9.916841745376587\n",
      "Iteration 58 took -9.657325506210327\n",
      "Iteration 59 took -9.945576190948486\n",
      "Iteration 60 took -10.117019176483154\n",
      "Iteration 61 took -10.449605703353882\n",
      "Iteration 62 took -10.478209495544434\n",
      "Iteration 63 took -10.545873641967773\n",
      "Iteration 64 took -10.782860517501831\n",
      "Iteration 65 took -10.911602020263672\n",
      "Iteration 66 took -11.481146097183228\n",
      "Iteration 67 took -10.957371950149536\n",
      "Iteration 68 took -11.428549766540527\n",
      "Iteration 69 took -11.816200494766235\n",
      "Iteration 70 took -11.850287914276123\n",
      "Iteration 71 took -11.918132781982422\n",
      "Iteration 72 took -12.110175848007202\n",
      "Iteration 73 took -12.257239818572998\n",
      "Iteration 74 took -12.257724046707153\n",
      "Iteration 75 took -12.86711573600769\n",
      "Iteration 76 took -12.895010471343994\n",
      "Iteration 77 took -12.914437055587769\n",
      "Iteration 78 took -13.19687819480896\n",
      "Iteration 79 took -12.88681149482727\n",
      "Iteration 80 took -13.641830682754517\n",
      "Iteration 81 took -13.609971046447754\n"
     ]
    }
   ],
   "source": [
    "par = setup(n)\n",
    "# maxIt = n**2\n",
    "maxIt = n**2\n",
    "probList = []\n",
    "\n",
    "xs = np.linspace(1,maxIt,num = maxIt,dtype='int')\n",
    "for it in xs:\n",
    "    par['numIt']  = it\n",
    "    shots = 10000\n",
    "\n",
    "    # Build circuit\n",
    "    start = time.time()\n",
    "    c = buildCircuit(par,True)\n",
    "    circ = transpile(c, simulator_density_matrix, optimization_level=0)\n",
    "    job_density_matrix = simulator_density_matrix.run(circ, shots=shots)\n",
    "    counts_density_matrix = job_density_matrix.result().get_counts(0)\n",
    "\n",
    "#     print(counts_density_matrix)\n",
    "\n",
    "#     if(par['statevector']):\n",
    "#         # Execute and get counts\n",
    "#         DM = qi.DensityMatrix.from_instruction(c)\n",
    "#         # probs = DM.probabilities_dict()\n",
    "#         DM2 = qi.partial_trace(DM,[par['nQ']])\n",
    "#         probs = DM2.probabilities_dict()\n",
    "\n",
    "    print(\"Iteration \" + str(it) + \" took \" + str(start-time.time()))\n",
    "    \n",
    "    total = 0\n",
    "    \n",
    "    for state in counts_density_matrix:\n",
    "        if(checkSAT(par['sat'], int(state, 2), len(par['sat']), par['nQ'])):\n",
    "            total += counts_density_matrix[state]\n",
    "            \n",
    "            \n",
    "#     names = list(probs.keys())\n",
    "#     values = list(probs.values())\n",
    "    \n",
    "#     totalProb = 0\n",
    "#     for s in solutions:\n",
    "# #         if f'{s:nb}'\n",
    "#         totalProb += list(probs.values())[s]\n",
    "    probList.append(total/shots)\n",
    "    \n",
    "# plt.plot(xs, probList, c='red')"
   ]
  },
  {
   "cell_type": "code",
   "execution_count": 22,
   "id": "suspended-insulation",
   "metadata": {},
   "outputs": [
    {
     "data": {
      "text/plain": [
       "[<matplotlib.lines.Line2D at 0x155515f83e50>]"
      ]
     },
     "execution_count": 22,
     "metadata": {},
     "output_type": "execute_result"
    },
    {
     "data": {
      "image/png": "[encoded data removed]",
      "text/plain": [
       "<Figure size 432x288 with 1 Axes>"
      ]
     },
     "metadata": {
      "needs_background": "light"
     },
     "output_type": "display_data"
    }
   ],
   "source": [
    "plt.plot(base[:-1]+1, cumulative/numIt, c='blue')\n",
    "plt.plot(xs, probList, c='red')"
   ]
  },
  {
   "cell_type": "code",
   "execution_count": null,
   "id": "sustained-polls",
   "metadata": {},
   "outputs": [],
   "source": []
  }
 ],
 "metadata": {
  "kernelspec": {
   "display_name": "Python 3.8 (conda)",
   "language": "python",
   "name": "python38-conda"
  },
  "language_info": {
   "codemirror_mode": {
    "name": "ipython",
    "version": 3
   },
   "file_extension": ".py",
   "mimetype": "text/x-python",
   "name": "python",
   "nbconvert_exporter": "python",
   "pygments_lexer": "ipython3",
   "version": "3.8.5"
  }
 },
 "nbformat": 4,
 "nbformat_minor": 5
}
