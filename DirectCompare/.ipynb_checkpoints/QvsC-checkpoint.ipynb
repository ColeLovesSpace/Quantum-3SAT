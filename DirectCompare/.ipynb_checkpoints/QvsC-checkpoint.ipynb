{
 "cells": [
  {
   "cell_type": "code",
   "execution_count": 1,
   "id": "drawn-western",
   "metadata": {},
   "outputs": [],
   "source": [
    "# Needed for functions\n",
    "import time\n",
    "import numpy as np\n",
    "from numpy import pi\n",
    "from copy import deepcopy\n",
    "import pandas as pd\n",
    "import matplotlib.pyplot as plt\n",
    "from collections import Counter\n",
    "\n",
    "#import packages for classical algorithm\n",
    "import ctypes\n",
    "from numpy import ctypeslib as npct\n",
    "\n",
    "#import packages for quantum algorithm\n",
    "from qiskit import *\n",
    "from qiskit.tools.jupyter import *\n",
    "from qiskit.visualization import *\n",
    "import qiskit.quantum_info as qi"
   ]
  },
  {
   "cell_type": "code",
   "execution_count": 2,
   "id": "exotic-tender",
   "metadata": {},
   "outputs": [],
   "source": [
    "#initialize variables for classical solver\n",
    "array_1d_double = npct.ndpointer(dtype=np.double, ndim=1, flags='CONTIGUOUS')\n",
    "array_1d_int = npct.ndpointer(dtype=np.int_, ndim=1, flags='CONTIGUOUS')\n",
    "\n",
    "c_lib_numpy = npct.load_library(\"lib/SATProbCalc.so\", \".\")\n",
    "\n",
    "x = 250#75\n",
    "i = 1844674407370955161#int(np.ceil((x**2))) \n",
    "c = 1065 #375\n",
    "\n",
    "c_lib_numpy.SolveSATbpp.restype = ctypes.c_int #ctypes.POINTER(ctypes.c_double * (10**2))\n",
    "c_lib_numpy.SolveSATbpp.argtypes = [ctypes.c_int, array_1d_double, ctypes.c_int, ctypes.c_int]"
   ]
  },
  {
   "cell_type": "code",
   "execution_count": 3,
   "id": "agricultural-bidder",
   "metadata": {},
   "outputs": [],
   "source": [
    "def SolveSATbpp(n, sat, clauses, iterations):\n",
    "    steps = c_lib_numpy.SolveSATbpp(n, sat.flatten(), clauses, iterations)\n",
    "    return steps"
   ]
  },
  {
   "cell_type": "code",
   "execution_count": 4,
   "id": "decreased-agent",
   "metadata": {},
   "outputs": [],
   "source": [
    "def buildSatSingleSolution(numVar):\n",
    "    sat = [[-1,-2,-3],[-1,2,3],[1,-2,3],[1,2,-3],[-1,-2,3],[-1,2,-3],[1,-2,-3]]\n",
    "    for n in range(4,numVar+1):\n",
    "        sat.append([-2,-3,-n])\n",
    "        sat.append([2,3,-n])\n",
    "        sat.append([-2,-3,n])\n",
    "    return sat"
   ]
  },
  {
   "cell_type": "code",
   "execution_count": 5,
   "id": "abroad-farmer",
   "metadata": {},
   "outputs": [],
   "source": [
    "def classicalStatistics(n, SAT, c, i, numRuns):\n",
    "    \n",
    "    stepList = [1]\n",
    "    for x in range(numRuns):\n",
    "        stepList.append(SolveSATbpp(n, SAT, c, i))\n",
    "    \n",
    "    counter = Counter(stepList)\n",
    "    res = {item: count for item, count in counter.items()}\n",
    "    print(res)\n",
    "    \n",
    "    return 1\n",
    "    "
   ]
  },
  {
   "cell_type": "code",
   "execution_count": 18,
   "id": "existing-tomato",
   "metadata": {},
   "outputs": [],
   "source": [
    "def classicalSolve():\n",
    "    n = 6\n",
    "    c = 3*n - 2\n",
    "    i = 1000\n",
    "    \n",
    "    SAT = buildSatSingleSolution(n)\n",
    "\n",
    "    SAT = np.array(SAT).astype('double')\n",
    "#     for x in range(len(SAT)):\n",
    "#         SAT[x] = -SAT[x]\n",
    "    # print(SAT)\n",
    "\n",
    "    start = time.time()\n",
    "    classicalStatistics(n, SAT, c, i, 1000000)\n",
    "    print(\"C++ time to solve: \" , start - time.time())\n",
    "\n",
    "    return 1"
   ]
  },
  {
   "cell_type": "code",
   "execution_count": 19,
   "id": "assumed-matrix",
   "metadata": {},
   "outputs": [
    {
     "name": "stdout",
     "output_type": "stream",
     "text": [
      "{1: 44533, 12: 55051, 9: 63582, 29: 21097, 13: 22664, 18: 66970, 7: 22962, 28: 43348, 14: 84642, 27: 21700, 8: 23186, 17: 85888, 3: 70671, 22: 22071, 11: 22719, 15: 22574, 10: 40850, 2: 46259, 34: 21423, 31: 40347, 4: 70093, 50: 20255, 24: 21929, 16: 22161, 0: 23026}\n",
      "C++ time to solve:  -45.31010150909424\n",
      "1\n"
     ]
    }
   ],
   "source": [
    "print(classicalSolve())"
   ]
  },
  {
   "cell_type": "code",
   "execution_count": null,
   "id": "adjusted-enhancement",
   "metadata": {},
   "outputs": [],
   "source": []
  }
 ],
 "metadata": {
  "kernelspec": {
   "display_name": "Python 3.8 (conda)",
   "language": "python",
   "name": "python38-conda"
  },
  "language_info": {
   "codemirror_mode": {
    "name": "ipython",
    "version": 3
   },
   "file_extension": ".py",
   "mimetype": "text/x-python",
   "name": "python",
   "nbconvert_exporter": "python",
   "pygments_lexer": "ipython3",
   "version": "3.8.5"
  }
 },
 "nbformat": 4,
 "nbformat_minor": 5
}
