{
 "cells": [
  {
   "cell_type": "code",
   "execution_count": 1,
   "id": "turkish-dominant",
   "metadata": {},
   "outputs": [],
   "source": [
    "# Needed for functions\n",
    "import time\n",
    "import numpy as np\n",
    "from numpy import pi\n",
    "from copy import deepcopy\n",
    "import pandas as pd\n",
    "import matplotlib.pyplot as plt\n",
    "from collections import Counter\n",
    "\n",
    "#import packages for classical algorithm\n",
    "import ctypes\n",
    "from numpy import ctypeslib as npct\n",
    "\n",
    "#import packages for quantum algorithm\n",
    "from qiskit import *\n",
    "from qiskit.tools.jupyter import *\n",
    "from qiskit.visualization import *\n",
    "import qiskit.quantum_info as qi"
   ]
  },
  {
   "cell_type": "code",
   "execution_count": 2,
   "id": "major-teddy",
   "metadata": {},
   "outputs": [],
   "source": [
    "#initialize variables for classical solver\n",
    "array_1d_double = npct.ndpointer(dtype=np.double, ndim=1, flags='CONTIGUOUS')\n",
    "array_1d_int = npct.ndpointer(dtype=np.int_, ndim=1, flags='CONTIGUOUS')\n",
    "\n",
    "c_lib_numpy = npct.load_library(\"lib/SATProbCalc.so\", \".\")\n",
    "\n",
    "x = 250#75\n",
    "i = 1844674407370955161#int(np.ceil((x**2))) \n",
    "c = 1065 #375\n",
    "\n",
    "c_lib_numpy.SolveSATbpp.restype = ctypes.c_int #ctypes.POINTER(ctypes.c_double * (10**2))\n",
    "c_lib_numpy.SolveSATbpp.argtypes = [ctypes.c_int, array_1d_double, ctypes.c_int, ctypes.c_int]"
   ]
  },
  {
   "cell_type": "code",
   "execution_count": 3,
   "id": "blind-indiana",
   "metadata": {},
   "outputs": [],
   "source": [
    "def SolveSATbpp(n, sat, clauses, iterations):\n",
    "    steps = c_lib_numpy.SolveSATbpp(n, sat.flatten(), clauses, iterations)\n",
    "    return steps"
   ]
  },
  {
   "cell_type": "code",
   "execution_count": 4,
   "id": "dimensional-burning",
   "metadata": {},
   "outputs": [],
   "source": [
    "def buildSatSingleSolution(numVar):\n",
    "    sat = [[1,2,3],[-1,2,3],[1,-2,3],[1,2,-3],[-1,-2,3],[-1,2,-3],[1,-2,-3]]\n",
    "    for n in range(4,numVar+1):\n",
    "        sat.append([2,3,n])\n",
    "        sat.append([2,3,-n])\n",
    "        sat.append([-2,-3,n])\n",
    "    return sat"
   ]
  },
  {
   "cell_type": "code",
   "execution_count": 5,
   "id": "perfect-portrait",
   "metadata": {},
   "outputs": [],
   "source": [
    "def classicalStatistics(n, SAT, c, i, numRuns):\n",
    "    \n",
    "    stepList = [1]\n",
    "    for x in range(numRuns):\n",
    "        stepList.append(SolveSATbpp(n, SAT, c, i))\n",
    "    \n",
    "    counter = Counter(stepList)\n",
    "    res = {item: count for item, count in counter.items()}\n",
    "#     print(res)\n",
    "    \n",
    "    return res\n",
    "    "
   ]
  },
  {
   "cell_type": "code",
   "execution_count": 8,
   "id": "coupled-kingston",
   "metadata": {},
   "outputs": [],
   "source": [
    "def classicalSolve():\n",
    "    n = 6\n",
    "    c = 3*n - 2\n",
    "    i = 1000\n",
    "    \n",
    "    SAT = buildSatSingleSolution(n)\n",
    "\n",
    "    SAT = np.array(SAT).astype('double')\n",
    "#     for x in range(len(SAT)):\n",
    "#         SAT[x] = -SAT[x]\n",
    "    # print(SAT)\n",
    "\n",
    "    start = time.time()\n",
    "    res = classicalStatistics(n, SAT, c, i, 100000000)\n",
    "    print(\"C++ time to solve: \" , start - time.time())\n",
    "\n",
    "    return res"
   ]
  },
  {
   "cell_type": "code",
   "execution_count": 9,
   "id": "smaller-healthcare",
   "metadata": {},
   "outputs": [
    {
     "name": "stdout",
     "output_type": "stream",
     "text": [
      "C++ time to solve:  -842.8720140457153\n",
      "{0: 2750638, 1: 5690982, 2: 4943862, 3: 6623938, 4: 5214533, 5: 5276304, 6: 3833617, 7: 4773959, 8: 5606611, 9: 3465276, 10: 4185645, 11: 3012221, 12: 3261055, 13: 4083335, 14: 2248864, 15: 3019133, 16: 3447269, 17: 2255135, 18: 1447243, 19: 2078792, 20: 2048642, 21: 2240058, 22: 2218579, 23: 1567670, 24: 1015394, 25: 1098673, 26: 688823, 27: 667075, 28: 868751, 29: 467518, 30: 189088, 31: 841305, 32: 369779, 33: 539632, 34: 603858, 35: 787156, 36: 173562, 37: 428107, 38: 424591, 39: 582382, 40: 169224, 41: 327845, 42: 400512, 43: 485106, 44: 237408, 46: 311754, 47: 385669, 48: 149611, 49: 372183, 50: 153439, 51: 76684, 52: 296172, 53: 192983, 54: 217045, 55: 70063, 56: 70387, 57: 138767, 61: 70759, 62: 63268, 63: 136059, 65: 129484, 66: 64451, 71: 63151, 73: 57314, 74: 59655, 83: 56100, 92: 103246, 94: 102607}\n"
     ]
    },
    {
     "data": {
      "text/plain": [
       "[<matplotlib.lines.Line2D at 0x155509364ca0>]"
      ]
     },
     "execution_count": 9,
     "metadata": {},
     "output_type": "execute_result"
    },
    {
     "data": {
      "image/png": "[encoded data removed]",
      "text/plain": [
       "<Figure size 432x288 with 1 Axes>"
      ]
     },
     "metadata": {
      "needs_background": "light"
     },
     "output_type": "display_data"
    }
   ],
   "source": [
    "res = classicalSolve()\n",
    "\n",
    "myKeys = list(res.keys())\n",
    "myKeys.sort()\n",
    "sorted_dict = {i: res[i] for i in myKeys}\n",
    "\n",
    " \n",
    "print(sorted_dict)\n",
    "\n",
    "plt.plot(list(map(int,sorted_dict.keys())),sorted_dict.values())\n"
   ]
  },
  {
   "cell_type": "code",
   "execution_count": null,
   "id": "lesbian-profit",
   "metadata": {},
   "outputs": [],
   "source": []
  },
  {
   "cell_type": "code",
   "execution_count": null,
   "id": "innocent-excuse",
   "metadata": {},
   "outputs": [],
   "source": []
  }
 ],
 "metadata": {
  "kernelspec": {
   "display_name": "Python 3.8 (conda)",
   "language": "python",
   "name": "python38-conda"
  },
  "language_info": {
   "codemirror_mode": {
    "name": "ipython",
    "version": 3
   },
   "file_extension": ".py",
   "mimetype": "text/x-python",
   "name": "python",
   "nbconvert_exporter": "python",
   "pygments_lexer": "ipython3",
   "version": "3.8.5"
  }
 },
 "nbformat": 4,
 "nbformat_minor": 5
}
