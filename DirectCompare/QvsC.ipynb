{
 "cells": [
  {
   "cell_type": "markdown",
   "id": "combined-beijing",
   "metadata": {},
   "source": [
    "# Direct Comparison of Quantum 3SAT algorithm and classical counterpart.  "
   ]
  },
  {
   "cell_type": "markdown",
   "id": "analyzed-kruger",
   "metadata": {},
   "source": [
    "## Shared functions/dependencies "
   ]
  },
  {
   "cell_type": "code",
   "execution_count": 1,
   "id": "caroline-victim",
   "metadata": {
    "tags": []
   },
   "outputs": [],
   "source": [
    "# Needed for functions\n",
    "import time\n",
    "import numpy as np\n",
    "from numpy import pi\n",
    "from copy import deepcopy\n",
    "import pandas as pd\n",
    "import matplotlib.pyplot as plt\n",
    "from collections import Counter\n",
    "import random\n",
    "\n",
    "#import packages for classical algorithm\n",
    "import ctypes\n",
    "from numpy import ctypeslib as npct\n",
    "\n",
    "#import packages for quantum algorithm\n",
    "from qiskit import *\n",
    "from qiskit.tools.jupyter import *\n",
    "from qiskit.visualization import *\n",
    "import qiskit.quantum_info as qi\n",
    "\n",
    "from qiskit import Aer, transpile\n",
    "# import qiskit.providers.aer\n",
    "from qiskit_aer import AerError"
   ]
  },
  {
   "cell_type": "markdown",
   "id": "pursuant-escape",
   "metadata": {
    "tags": []
   },
   "source": [
    "Build 3SAT instance with only one solution"
   ]
  },
  {
   "cell_type": "code",
   "execution_count": 2,
   "id": "leading-romance",
   "metadata": {
    "tags": []
   },
   "outputs": [],
   "source": [
    "def buildSatSingleSolution(numVar):\n",
    "    sat = [[-1,-2,-3],[-1,2,3],[1,-2,3],[1,2,-3],[-1,-2,3],[-1,2,-3],[1,-2,-3],[1,2,3]]\n",
    "    for n in range(4,numVar+1):\n",
    "        sat.append([-2,-3,-n])\n",
    "        sat.append([2,3,-n])\n",
    "        sat.append([-2,-3,n])\n",
    "    return sat\n",
    "\n",
    "# def buildSatSingleSolution(numVar):\n",
    "#     sat = [[-1,-2,-3],[-1,2,3],[1,-2,3],[1,2,-3],[-1,-2,3],[-1,2,-3],[1,-2,-3]]\n",
    "#     for n in range(4,numVar+1):\n",
    "#         sat.append([2,3,n])\n",
    "#         sat.append([-2,-3,-n])\n",
    "#         sat.append([-2,-3,n])\n",
    "        \n",
    "#     return sat"
   ]
  },
  {
   "cell_type": "markdown",
   "id": "silent-paradise",
   "metadata": {},
   "source": [
    "Generate random SATs with fixed number of clauses and variables."
   ]
  },
  {
   "cell_type": "code",
   "execution_count": 3,
   "id": "beginning-silly",
   "metadata": {
    "tags": []
   },
   "outputs": [
    {
     "data": {
      "text/plain": [
       "[[[-3, -2, 1], [-2, -1, 3], [1, 2, 4]],\n",
       " [[-4, -3, 2], [-3, -2, -1], [-3, -1, 2]],\n",
       " [[-4, -3, 2], [-4, -1, 3], [-3, -2, 4]],\n",
       " [[-4, -3, 1], [-3, -1, 4], [-2, 3, 4]]]"
      ]
     },
     "execution_count": 3,
     "metadata": {},
     "output_type": "execute_result"
    }
   ],
   "source": [
    "def SATset(n,nc,ns):\n",
    "    SATlist = []\n",
    "    variables = list(range(n+1))\n",
    "    sign = [-1,1]\n",
    "    variables.remove(0)\n",
    "    \n",
    "    while len(SATlist)<ns:\n",
    "        SAT=[]\n",
    "        while len(SAT)<nc:\n",
    "            clause = list(set(random.choices(variables,k=3)))\n",
    "            for v in range(len(clause)):\n",
    "                clause[v]=clause[v]*random.choice(sign)\n",
    "            clause = sorted(clause)\n",
    "            if len(clause) == 3 and clause not in SAT:\n",
    "                SAT.append(clause)\n",
    "        SAT = sorted(SAT)\n",
    "        if SAT not in SATlist:\n",
    "            SATlist.append(SAT)\n",
    "    return SATlist\n",
    "    \n",
    "SATset(4,3,4)"
   ]
  },
  {
   "cell_type": "markdown",
   "id": "jewish-bishop",
   "metadata": {},
   "source": [
    "There is no limit to acceleration, you just have to do it in a short enough amount of time or else youll exceed the speed of light."
   ]
  },
  {
   "cell_type": "markdown",
   "id": "assumed-share",
   "metadata": {},
   "source": [
    "## Stochastic algorithm"
   ]
  },
  {
   "cell_type": "markdown",
   "id": "unknown-receiver",
   "metadata": {},
   "source": [
    "Get c++ function to run stochastic algorithm"
   ]
  },
  {
   "cell_type": "code",
   "execution_count": 4,
   "id": "killing-target",
   "metadata": {
    "tags": []
   },
   "outputs": [],
   "source": [
    "#initialize variables for classical solver\n",
    "array_1d_double = npct.ndpointer(dtype=np.double, ndim=1, flags='CONTIGUOUS')\n",
    "array_1d_int = npct.ndpointer(dtype=np.int_, ndim=1, flags='CONTIGUOUS')\n",
    "\n",
    "c_lib_numpy = npct.load_library(\"lib/SATProbCalc.so\", \".\")\n",
    "\n",
    "c_lib_numpy.SolveSATbpp.restype = ctypes.c_int #ctypes.POINTER(ctypes.c_double * (10**2))\n",
    "c_lib_numpy.SolveSATbpp.argtypes = [ctypes.c_int, array_1d_double, ctypes.c_int, ctypes.c_int]\n",
    "\n",
    "c_lib_numpy.Shoning.restype = ctypes.c_int #ctypes.POINTER(ctypes.c_double * (10**2))\n",
    "c_lib_numpy.Shoning.argtypes = [ctypes.c_int, array_1d_double, ctypes.c_int, ctypes.c_int]\n",
    "\n",
    "def SolveSATbpp(n, sat, clauses, iterations):\n",
    "    steps = c_lib_numpy.SolveSATbpp(n, sat.flatten(), clauses, iterations)\n",
    "    return steps\n",
    "\n",
    "def Shoning(n, sat, clauses, iterations):\n",
    "    steps = c_lib_numpy.Shoning(n, sat.flatten(), clauses, iterations)\n",
    "    return steps"
   ]
  },
  {
   "cell_type": "markdown",
   "id": "spatial-identity",
   "metadata": {},
   "source": [
    "Functions for getting probability of finding solution with stochastic algorithm"
   ]
  },
  {
   "cell_type": "code",
   "execution_count": 5,
   "id": "fresh-jefferson",
   "metadata": {
    "tags": []
   },
   "outputs": [],
   "source": [
    "def classicalStatistics(n, SAT, c, i, numRuns):\n",
    "    stepList = []\n",
    "    for x in range(numRuns):\n",
    "        stepList.append(SolveSATbpp(n, SAT, c, i))\n",
    "#     counter = Counter(stepList)\n",
    "#     res = {item: count for item, count in counter.items()}\n",
    "#     print(res)\n",
    "    return stepList\n",
    "\n",
    "def classicalStatisticsS(n, SAT, c, i, numRuns):\n",
    "    stepList = []\n",
    "    for x in range(numRuns):\n",
    "        stepList.append(Shoning(n, SAT, c, i))\n",
    "#     counter = Counter(stepList)\n",
    "#     res = {item: count for item, count in counter.items()}\n",
    "#     print(res)\n",
    "    return stepList\n",
    "\n",
    "def classicalSolve2(n,SAT,c,i,numIt):\n",
    "\n",
    "    SAT = np.array(SAT).astype('double')\n",
    "#     for x in range(len(SAT)):\n",
    "#         SAT[x] = -SAT[x]\n",
    "\n",
    "    start = time.time()\n",
    "    res = classicalStatistics(n, SAT, c, i, numIt)\n",
    "    print(\"C++ time to solve: \" , start - time.time())\n",
    "\n",
    "    return res\n",
    "\n",
    "def classicalSolveS(n,SAT,c,i,numIt):\n",
    "\n",
    "    SAT = np.array(SAT).astype('double')\n",
    "#     for x in range(len(SAT)):\n",
    "#         SAT[x] = -SAT[x]\n",
    "\n",
    "    start = time.time()\n",
    "    res = classicalStatisticsS(n, SAT, c, i, numIt)\n",
    "    print(\"C++ time to solve: \" , start - time.time())\n",
    "\n",
    "    return res\n",
    "\n",
    "def classicalSolve(n,SAT,c,i,numIt):\n",
    "\n",
    "    SAT = np.array(SAT).astype('double')\n",
    "#     for x in range(len(SAT)):\n",
    "#         SAT[x] = -SAT[x]\n",
    "    # print(SAT)\n",
    "\n",
    "    start = time.time()\n",
    "    res = classicalStatistics(n, SAT, c, i, numIt)\n",
    "    print(\"C++ time to solve: \" , start - time.time())\n",
    "\n",
    "    return res"
   ]
  },
  {
   "cell_type": "markdown",
   "id": "variable-destiny",
   "metadata": {},
   "source": [
    "## Quantum algorithm"
   ]
  },
  {
   "cell_type": "markdown",
   "id": "disciplinary-holly",
   "metadata": {},
   "source": [
    "Helper functions / gates"
   ]
  },
  {
   "cell_type": "code",
   "execution_count": 6,
   "id": "sufficient-civilian",
   "metadata": {
    "tags": []
   },
   "outputs": [],
   "source": [
    "def OR(a,b,c,d,e,circuit):\n",
    "    circuit.x(a)\n",
    "    circuit.x(b)\n",
    "    circuit.x(c)\n",
    "    circuit.ccx(a,b,d)\n",
    "    circuit.ccx(c,d,e)\n",
    "    circuit.x(a)\n",
    "    circuit.x(b)\n",
    "    circuit.x(c)\n",
    "    circuit.x(e)\n",
    "    circuit.reset(d)\n",
    "\n",
    "def AND(a,b,c,d,e,circuit):\n",
    "    circuit.ccx(a,b,d)\n",
    "    circuit.ccx(c,d,e)\n",
    "    circuit.reset(d)\n",
    "    \n",
    "def had3(e,a,b,c,circuit,par):\n",
    "    circuit.ch(e,abs(a)-1)\n",
    "    circuit.ch(e,abs(b)-1)\n",
    "    circuit.ch(e,abs(c)-1)\n",
    "    \n",
    "def not3(e,a,b,c,circuit,par):\n",
    "    circuit.cnot(e,abs(a)-1)\n",
    "    circuit.cnot(e,abs(b)-1)\n",
    "    circuit.cnot(e,abs(c)-1)\n",
    "    \n",
    "def hadAll(e,a,b,c,circuit,par):\n",
    "    for b in range(par['nQ']):\n",
    "        circuit.ch(e,b)\n",
    "#     circuit.ch(e,abs(a)-1)\n",
    "#     circuit.ch(e,abs(b)-1)\n",
    "#     circuit.ch(e,abs(c)-1)\n",
    "    \n",
    "        \n",
    "def remStates(a,b,c,d,circuit):\n",
    "    if a < 0:\n",
    "        circuit.x(abs(a)-1)\n",
    "    if b < 0:\n",
    "        circuit.x(abs(b)-1)\n",
    "    if c < 0:\n",
    "        circuit.x(abs(c)-1)\n",
    "    \n",
    "    circuit.rcccx(abs(a)-1,abs(b)-1,abs(c)-1,d)\n",
    "        \n",
    "    if a < 0:\n",
    "        circuit.x(abs(a)-1)\n",
    "    if b < 0:\n",
    "        circuit.x(abs(b)-1)\n",
    "    if c < 0:\n",
    "        circuit.x(abs(c)-1)\n",
    "         \n",
    "def endRem(a,b,c,d,e,circuit):\n",
    "    if a < 0:\n",
    "        circuit.x(abs(a)-1)\n",
    "    if b < 0:\n",
    "        circuit.x(abs(b)-1)\n",
    "    if c < 0:\n",
    "        circuit.x(abs(c)-1)\n",
    "        \n",
    "def qft3(c,q1,q2,q3):\n",
    "    c.h(abs(q3)-1)\n",
    "    c.cp(pi/4, abs(q1)-1, abs(q3)-1)\n",
    "    c.cp(pi/2, abs(q2)-1, abs(q3)-1)\n",
    "    c.h(abs(q2)-1)\n",
    "    c.cp(pi/2, abs(q1)-1, abs(q2)-1)\n",
    "    c.h(abs(q1)-1)\n",
    "    c.swap(abs(q1)-1,abs(q3)-1)\n",
    "    \n",
    "def qft3i(c,q1,q2,q3):\n",
    "    c.swap(abs(q1)-1,abs(q3)-1)\n",
    "    c.h(abs(q1)-1)\n",
    "    c.cp(-pi/2, abs(q1)-1, abs(q2)-1)\n",
    "    c.h(abs(q2)-1)\n",
    "    c.cp(-pi/2, abs(q2)-1, abs(q3)-1)\n",
    "    c.cp(-pi/4, abs(q1)-1, abs(q3)-1)\n",
    "    c.h(abs(q3)-1)\n",
    "\n",
    "def qft_rotations(circuit, n):\n",
    "    \"\"\"Performs qft on the first n qubits in circuit (without swaps)\"\"\"\n",
    "    if n == 0:\n",
    "        return circuit\n",
    "    n -= 1\n",
    "    circuit.h(n)\n",
    "    for qubit in range(n):\n",
    "        circuit.cp(pi/2**(n-qubit), qubit, n)\n",
    "    # At the end of our function, we call the same function again on\n",
    "    # the next qubits (we reduced n by one earlier in the function)\n",
    "    qft_rotations(circuit, n)\n",
    "    \n",
    "def swap_registers(circuit, n):\n",
    "    for qubit in range(n//2):\n",
    "        circuit.swap(qubit, n-qubit-1)\n",
    "    return circuit\n",
    "\n",
    "def qft(circuit, n):\n",
    "    \"\"\"QFT on the first n qubits in circuit\"\"\"\n",
    "    qft_rotations(circuit, n)\n",
    "    swap_registers(circuit, n)\n",
    "    return circuit\n",
    "\n",
    "def inverse_qft(circuit, n, s):\n",
    "    \"\"\"Does the inverse QFT on the first n qubits in circuit\"\"\"\n",
    "    # First we create a QFT circuit of the correct size:\n",
    "    qft_circ = qft(QuantumCircuit(n), n)\n",
    "    # Then we take the inverse of this circuit\n",
    "    invqft_circ = qft_circ.inverse()\n",
    "    # And add it to the first n qubits in our existing circuit\n",
    "    circuit.append(invqft_circ, circuit.qubits[s:n+s])\n",
    "    return circuit.decompose() # .decompose() allows us to see the individual gates\n",
    "    "
   ]
  },
  {
   "cell_type": "markdown",
   "id": "chemical-probability",
   "metadata": {},
   "source": [
    "Build quantum circuit"
   ]
  },
  {
   "cell_type": "code",
   "execution_count": 7,
   "id": "coupled-biodiversity",
   "metadata": {
    "tags": []
   },
   "outputs": [],
   "source": [
    "# SAT problem that will be implemented in circuit\n",
    "# sat = [[-1,-2,-3],[-1,2,3],[1,-2,3],[1,2,-3],[-1,-2,3],[-1,2,-3],[1,-2,-3],[-2,-3,4],[-2,-3,-4],[-2,-3,5],[-2,-3,-5],[-2,-3,6],[-2,-3,-6],[-2,-3,7],[-2,-3,-7],[2,3,4],[2,3,5],[2,3,6],[2,3,7]]\n",
    "\n",
    "def buildCircuit(par,measure):\n",
    "    helper = 1 #number of ancillary qubits\n",
    "    h = par['nQ'] #qubit that can be used for calculations\n",
    "\n",
    "    qr = QuantumRegister(par['nQ']+helper, 'q')\n",
    "    cr = ClassicalRegister(par['nQ'], 'c')\n",
    "    c = QuantumCircuit(qr, cr)\n",
    "\n",
    "    # Hadimard all qubits used in SAT\n",
    "    if par['had']:\n",
    "        for x in range(par['nQ']):\n",
    "            c.h(x)\n",
    "                \n",
    "    for n in range(par['numIt']): # Repeat circuit numIt times\n",
    "#         random.shuffle(par['sat'])\n",
    "        for clause in par['sat']: # loop through all clauses in the SAT instance\n",
    "            \n",
    "            \n",
    "            remStates(clause[0],clause[1],clause[2],h,c)\n",
    "            had3(h,clause[0],clause[1],clause[2],c,par)\n",
    "            c.reset(h)\n",
    "            \n",
    "            c.barrier(qr)  \n",
    "            \n",
    "    if measure:\n",
    "        c.measure(qr[:-1],cr)\n",
    "            \n",
    "    return c"
   ]
  },
  {
   "cell_type": "code",
   "execution_count": 8,
   "id": "rocky-insured",
   "metadata": {},
   "outputs": [],
   "source": [
    "# SAT problem that will be implemented in circuit\n",
    "# sat = [[-1,-2,-3],[-1,2,3],[1,-2,3],[1,2,-3],[-1,-2,3],[-1,2,-3],[1,-2,-3],[-2,-3,4],[-2,-3,-4],[-2,-3,5],[-2,-3,-5],[-2,-3,6],[-2,-3,-6],[-2,-3,7],[-2,-3,-7],[2,3,4],[2,3,5],[2,3,6],[2,3,7]]\n",
    "\n",
    "def buildCircuitNOT(par,measure):\n",
    "    helper = 1 #number of ancillary qubits\n",
    "    h = par['nQ'] #qubit that can be used for calculations\n",
    "\n",
    "    qr = QuantumRegister(par['nQ']+helper, 'q')\n",
    "    cr = ClassicalRegister(par['nQ'], 'c')\n",
    "    c = QuantumCircuit(qr, cr)\n",
    "\n",
    "    # Hadimard all qubits used in SAT\n",
    "    if par['had']:\n",
    "        for x in range(par['nQ']):\n",
    "            c.h(x)\n",
    "                \n",
    "    for n in range(par['numIt']): # Repeat circuit numIt times\n",
    "#         random.shuffle(par['sat'])\n",
    "        for clause in par['sat']: # loop through all clauses in the SAT instance\n",
    "            \n",
    "            \n",
    "            remStates(clause[0],clause[1],clause[2],h,c)\n",
    "            not3(h,clause[0],clause[1],clause[2],c,par)\n",
    "            c.reset(h)\n",
    "            \n",
    "            c.barrier(qr)  \n",
    "            \n",
    "    if measure:\n",
    "        c.measure(qr[:-1],cr)\n",
    "            \n",
    "    return c"
   ]
  },
  {
   "cell_type": "markdown",
   "id": "informative-princess",
   "metadata": {},
   "source": [
    "## Exhaustive search for solution"
   ]
  },
  {
   "cell_type": "markdown",
   "id": "disabled-buying",
   "metadata": {},
   "source": [
    "Helper functions for classical exhaustive search of solutions to SAT instance"
   ]
  },
  {
   "cell_type": "code",
   "execution_count": 9,
   "id": "resident-community",
   "metadata": {
    "tags": []
   },
   "outputs": [],
   "source": [
    "def checkSAT(SAT, state, c, n):\n",
    "        \n",
    "    for t in range(c):\n",
    "        # //get the variables the clause is interested in\n",
    "        seive = (1 << (abs(int(SAT[t][0])) - 1)) + (1 << (int(abs(SAT[t][1])) - 1)) + (1 << (int(abs(SAT[t][2])) - 1))\n",
    "        # //get the values in the clause to xor\n",
    "        gate = 0\n",
    "            \n",
    "        if (SAT[t][0] > 0):\n",
    "            gate += 1 << (abs(int((SAT[t][0]))) - 1)\n",
    "        if (SAT[t][1] > 0):\n",
    "            gate += 1 << (abs(int((SAT[t][1]))) - 1)\n",
    "        if (SAT[t][2] > 0):\n",
    "            gate += 1 << (abs(int((SAT[t][2]))) - 1)\n",
    "\n",
    "        a = seive & state\n",
    "        b = gate ^ a\n",
    "\n",
    "        if (b == 0):\n",
    "            return False\n",
    "    return True\n",
    "\n",
    "def exhausting(SAT,c,n):\n",
    "    solutions = []\n",
    "#     for t in range(c):\n",
    "#         print((int(SAT[t][0])),\" \",(int(SAT[t][1])),\" \",(int(SAT[t][2])))\n",
    "    \n",
    "    for s in range(0,2**n):\n",
    "        state = int(s)\n",
    "        if(checkSAT(SAT, state, c, n)):\n",
    "            solutions.append(state)\n",
    "    return solutions\n",
    "            "
   ]
  },
  {
   "cell_type": "code",
   "execution_count": 10,
   "id": "rural-venice",
   "metadata": {
    "tags": []
   },
   "outputs": [],
   "source": [
    "# SAT = buildSatSingleSolution(n)\n",
    "# # random.shuffle(SAT)\n",
    "# solutions = exhausting(SAT,c,n)\n",
    "# print(solutions)\n",
    "\n",
    "# myKeys = list(res.keys())\n",
    "# myKeys.sort()\n",
    "# sorted_dict = {i: res[i] for i in myKeys}\n",
    " \n",
    "# print(sorted_dict)\n",
    "# plt.plot(list(map(int,sorted_dict.keys())),sorted_dict.values())"
   ]
  },
  {
   "cell_type": "markdown",
   "id": "crucial-yeast",
   "metadata": {},
   "source": [
    "# Test and compare quantum and classical algorithms"
   ]
  },
  {
   "cell_type": "code",
   "execution_count": 11,
   "id": "sorted-proportion",
   "metadata": {
    "tags": []
   },
   "outputs": [],
   "source": [
    "def setup(nQ):\n",
    "    par = {}\n",
    "    par['nQ'] = nQ\n",
    "    par['sat'] = buildSatSingleSolution(par['nQ'])\n",
    "    par['numIt'] = len(par['sat'])\n",
    "\n",
    "    #Plotting Conditionals\n",
    "    par['latex'] = True\n",
    "    par['statevector'] = True\n",
    "    par['saveEnd'] = False\n",
    "    par['figName'] = \"Plots/TestSave4/{:0>6}.png\"\n",
    "    \n",
    "    par['measure'] = False\n",
    "    par['had'] = True\n",
    "    \n",
    "    par['gpu'] = False\n",
    "    \n",
    "#     print(par['numIt'])\n",
    "    \n",
    "    state = ''\n",
    "    for q in range(nQ):\n",
    "        state = state + '0'\n",
    "    par['state'] = state\n",
    "    \n",
    "    return par"
   ]
  },
  {
   "cell_type": "markdown",
   "id": "fabulous-royalty",
   "metadata": {},
   "source": [
    "Initialize parameters for SAT instance"
   ]
  },
  {
   "cell_type": "code",
   "execution_count": 12,
   "id": "committed-electricity",
   "metadata": {},
   "outputs": [],
   "source": [
    "n = 5\n",
    "par = setup(n)\n",
    "# par['sat'] = [[-1,2,3],[1,-2,4],[2,3,-4],[1,-3,4],[2,-3,-4],[-1,2,4],[]]\n",
    "# par['numIt'] = 10\n",
    "# c = 3*n -2\n",
    "c = len(par['sat'])\n",
    "\n",
    "i = c#n**2\n",
    "numIt = 1000000"
   ]
  },
  {
   "cell_type": "markdown",
   "id": "acoustic-claim",
   "metadata": {},
   "source": [
    "Run statistical test of modified Shonings algorithm"
   ]
  },
  {
   "cell_type": "code",
   "execution_count": 13,
   "id": "familiar-present",
   "metadata": {},
   "outputs": [
    {
     "name": "stdout",
     "output_type": "stream",
     "text": [
      "C++ time to solve:  -8.266136884689331\n"
     ]
    }
   ],
   "source": [
    "res = classicalSolve2(n,par['sat'],c,i,numIt)\n",
    "\n",
    "\n",
    "cutoff = [x for x in res if x < i-1]\n",
    "values, base = np.histogram(cutoff, bins=n**2)\n",
    "# values, base = np.histogram(res, bins=n**2)\n",
    "#evaluate the cumulative\n",
    "cumulative = np.cumsum(values)"
   ]
  },
  {
   "cell_type": "code",
   "execution_count": 14,
   "id": "adult-parameter",
   "metadata": {},
   "outputs": [],
   "source": [
    "# print(set(res))"
   ]
  },
  {
   "cell_type": "markdown",
   "id": "outside-standing",
   "metadata": {},
   "source": [
    "Run statistical test of regular Shonings algorithm"
   ]
  },
  {
   "cell_type": "code",
   "execution_count": 15,
   "id": "european-matthew",
   "metadata": {},
   "outputs": [
    {
     "name": "stdout",
     "output_type": "stream",
     "text": [
      "C++ time to solve:  -7.901594161987305\n",
      "[0 0 0 0 0 0 0 0 0 0 0 0 0 0 0 0 0 0 0 0 0 0 0 0 0]\n"
     ]
    }
   ],
   "source": [
    "resS = classicalSolveS(n,par['sat'],c,i,numIt)\n",
    "cutoffS = [x for x in resS if x < i-1]\n",
    "valuesS, baseS = np.histogram(cutoffS, bins=n**2)\n",
    "# valuesS, baseS = np.histogram(resS, bins=n**2)\n",
    "#evaluate the cumulative\n",
    "cumulativeS = np.cumsum(valuesS)\n",
    "print(cumulativeS)"
   ]
  },
  {
   "cell_type": "code",
   "execution_count": 16,
   "id": "celtic-release",
   "metadata": {
    "tags": []
   },
   "outputs": [
    {
     "name": "stdout",
     "output_type": "stream",
     "text": [
      "[]\n"
     ]
    }
   ],
   "source": [
    "solutions = exhausting(par['sat'],c,n)\n",
    "print(solutions)"
   ]
  },
  {
   "cell_type": "markdown",
   "id": "surrounded-milan",
   "metadata": {},
   "source": [
    "Run test of quantum algorithm"
   ]
  },
  {
   "cell_type": "code",
   "execution_count": 22,
   "id": "available-proportion",
   "metadata": {},
   "outputs": [
    {
     "name": "stdout",
     "output_type": "stream",
     "text": [
      "Iteration 1 took -0.06893277168273926\n",
      "Iteration 1 took -0.1281599998474121\n",
      "[]\n",
      "Iteration 2 took -0.12627124786376953\n",
      "Iteration 2 took -0.24235916137695312\n",
      "[]\n",
      "Iteration 3 took -0.1908867359161377\n",
      "Iteration 3 took -0.36750197410583496\n",
      "[]\n",
      "Iteration 4 took -0.2502562999725342\n",
      "Iteration 4 took -0.4812662601470947\n",
      "[]\n",
      "Iteration 5 took -0.3080325126647949\n",
      "Iteration 5 took -0.5931868553161621\n",
      "[]\n",
      "Iteration 6 took -0.37212324142456055\n",
      "Iteration 6 took -0.7165780067443848\n",
      "[]\n",
      "Iteration 7 took -0.5396790504455566\n",
      "Iteration 7 took -0.9415178298950195\n",
      "[]\n",
      "Iteration 8 took -0.4938681125640869\n",
      "Iteration 8 took -0.9574053287506104\n",
      "[]\n",
      "Iteration 9 took -0.5631978511810303\n",
      "Iteration 9 took -1.0797343254089355\n",
      "[]\n",
      "Iteration 10 took -0.6190500259399414\n",
      "Iteration 10 took -1.1942555904388428\n",
      "[]\n",
      "Iteration 11 took -0.747359037399292\n",
      "Iteration 11 took -1.3780150413513184\n",
      "[]\n",
      "Iteration 12 took -0.7413449287414551\n",
      "Iteration 12 took -1.4317617416381836\n",
      "[]\n",
      "Iteration 13 took -0.8070478439331055\n",
      "Iteration 13 took -1.5561208724975586\n",
      "[]\n",
      "Iteration 14 took -0.9337029457092285\n",
      "Iteration 14 took -1.7467005252838135\n",
      "[]\n"
     ]
    },
    {
     "data": {
      "image/png": "[encoded data removed]",
      "text/plain": [
       "<Figure size 432x288 with 1 Axes>"
      ]
     },
     "metadata": {
      "needs_background": "light"
     },
     "output_type": "display_data"
    }
   ],
   "source": [
    "maxIt = c#n**2\n",
    "probList = []\n",
    "entropyList = []\n",
    "probList2 = []\n",
    "entropyList2 = []\n",
    "xs = np.linspace(1,maxIt,num = maxIt,dtype='int')\n",
    "\n",
    "if par['gpu']:\n",
    "    # Initialize a GPU backend\n",
    "    # Note that the cloud instance for tutorials does not have a GPU\n",
    "    # so this will raise an exception.\n",
    "    try:\n",
    "        simulator_density_matrix = Aer.get_backend('aer_simulator_density_matrix')\n",
    "        simulator_density_matrix.set_options(device='GPU')\n",
    "    except AerError as e:\n",
    "        print(e)\n",
    "        \n",
    "    for it in xs:\n",
    "        par['numIt']  = it\n",
    "        shots = 10000\n",
    "\n",
    "        # Build circuit\n",
    "        start = time.time()\n",
    "        qc = buildCircuit(par,True)\n",
    "        circ = transpile(qc, simulator_density_matrix, optimization_level=0)\n",
    "        job_density_matrix = simulator_density_matrix.run(circ, shots=shots)\n",
    "        counts_density_matrix = job_density_matrix.result().get_counts(0)\n",
    "\n",
    "        print(\"Iteration \" + str(it) + \" took \" + str(start-time.time()))\n",
    "\n",
    "        total = 0\n",
    "        for state in counts_density_matrix:\n",
    "            if(checkSAT(par['sat'], int(state, 2), len(par['sat']), par['nQ'])):\n",
    "                total += counts_density_matrix[state]\n",
    "\n",
    "        probList.append(total/shots)\n",
    "else:\n",
    "    for it in xs:\n",
    "        par['numIt']  = it\n",
    "\n",
    "        # Build circuit\n",
    "        start = time.time()\n",
    "        qc = buildCircuit(par,False)\n",
    "        qc2 = buildCircuitNOT(par,False)#*Borat voice*\n",
    "\n",
    "        if(par['statevector']):\n",
    "            # Execute and get counts\n",
    "            DM = qi.DensityMatrix.from_instruction(qc)\n",
    "            # probs = DM.probabilities_dict()\n",
    "            DM2 = qi.partial_trace(DM,[par['nQ']])\n",
    "            probs = DM2.probabilities_dict()\n",
    "#             DM22 = qi.partial_trace(DM2,[x for x in range(par['nQ']-1)])\n",
    "            \n",
    "            DM22 = qi.partial_trace(DM2,[0,1])\n",
    "            entropyList.append(qi.entropy(DM22))\n",
    "            DM21 = qi.partial_trace(DM2,[2,3,4])\n",
    "            entropyList2.append(qi.entropy(DM21))\n",
    "\n",
    "        print(\"Iteration \" + str(it) + \" took \" + str(start-time.time()))\n",
    "\n",
    "        names = list(probs.keys())\n",
    "        values = list(probs.values())\n",
    "\n",
    "        totalProb = 0\n",
    "        for s in solutions:\n",
    "            totalProb += list(probs.values())[s]\n",
    "        probList.append(totalProb)\n",
    "        \n",
    "        if(par['statevector']):\n",
    "            # Execute and get counts\n",
    "            DM2 = qi.DensityMatrix.from_instruction(qc2)\n",
    "            # probs = DM.probabilities_dict()\n",
    "            DM22 = qi.partial_trace(DM2,[par['nQ']])\n",
    "            probs2 = DM22.probabilities_dict()\n",
    "            \n",
    "\n",
    "        print(\"Iteration \" + str(it) + \" took \" + str(start-time.time()))\n",
    "\n",
    "        names2 = list(probs2.keys())\n",
    "        values2 = list(probs2.values())\n",
    "#         print(names2)\n",
    "#         print(values2)\n",
    "\n",
    "        totalProb2 = 0\n",
    "        print(solutions)\n",
    "        for s in solutions:\n",
    "#             print(s)\n",
    "            totalProb2 += probs2[f'{s:04b}']\n",
    "        probList2.append(totalProb2)\n",
    "#         print(totalProb2)\n",
    "    plt.plot(xs, entropyList, c='red')\n",
    "    plt.plot(xs, entropyList2, c='magenta')\n",
    "    plt.ylim([0,par['nQ']])"
   ]
  },
  {
   "cell_type": "code",
   "execution_count": 18,
   "id": "incorporated-employer",
   "metadata": {},
   "outputs": [
    {
     "data": {
      "text/plain": [
       "[<matplotlib.lines.Line2D at 0x155504693f70>]"
      ]
     },
     "execution_count": 18,
     "metadata": {},
     "output_type": "execute_result"
    },
    {
     "data": {
      "image/png": "[encoded data removed]",
      "text/plain": [
       "<Figure size 432x288 with 1 Axes>"
      ]
     },
     "metadata": {
      "needs_background": "light"
     },
     "output_type": "display_data"
    }
   ],
   "source": [
    "plt.plot(base[:-1]+1, cumulative/numIt, c='blue')\n",
    "plt.plot(baseS[:-1]+1, cumulativeS/numIt, c='green')\n",
    "plt.plot(xs, probList, c='red')\n",
    "plt.plot(xs, probList2, c='magenta')\n",
    "# plt.plot(base[:]+1, cumulative/numIt, c='blue')\n",
    "# plt.plot(baseS[:]+1, cumulativeS/numIt, c='green')\n",
    "# plt.plot(xs, probList, c='red')"
   ]
  },
  {
   "cell_type": "code",
   "execution_count": 19,
   "id": "joint-fisher",
   "metadata": {},
   "outputs": [
    {
     "name": "stdout",
     "output_type": "stream",
     "text": [
      "0\n"
     ]
    }
   ],
   "source": [
    "print(probList[-1])"
   ]
  },
  {
   "cell_type": "code",
   "execution_count": 20,
   "id": "fifty-laser",
   "metadata": {},
   "outputs": [
    {
     "name": "stderr",
     "output_type": "stream",
     "text": [
      "<ipython-input-20-0d7223e195aa>:5: UserWarning: Data has no positive values, and therefore cannot be log-scaled.\n",
      "  plt.yscale('log')\n"
     ]
    },
    {
     "data": {
      "image/png": "[encoded data removed]",
      "text/plain": [
       "<Figure size 432x288 with 1 Axes>"
      ]
     },
     "metadata": {
      "needs_background": "light"
     },
     "output_type": "display_data"
    }
   ],
   "source": [
    "plt.plot(base[:-1]+1, cumulative/numIt, c='blue')\n",
    "plt.plot(baseS[:-1]+1, cumulativeS/numIt, c='green')\n",
    "plt.plot(xs, probList, c='red')\n",
    "plt.xscale('log')\n",
    "plt.yscale('log')"
   ]
  },
  {
   "cell_type": "code",
   "execution_count": 21,
   "id": "structural-diving",
   "metadata": {},
   "outputs": [
    {
     "data": {
      "image/png": "[encoded data removed]",
      "text/plain": [
       "<Figure size 432x288 with 1 Axes>"
      ]
     },
     "metadata": {
      "needs_background": "light"
     },
     "output_type": "display_data"
    }
   ],
   "source": [
    "plt.plot(base[:-1]+1, cumulative/numIt, c='blue')\n",
    "plt.plot(baseS[:-1]+1, cumulativeS/numIt, c='green')\n",
    "plt.plot(xs, probList, c='red')\n",
    "plt.xscale('log')"
   ]
  },
  {
   "cell_type": "code",
   "execution_count": null,
   "id": "systematic-ratio",
   "metadata": {},
   "outputs": [],
   "source": []
  }
 ],
 "metadata": {
  "kernelspec": {
   "display_name": "Python 3.8 (conda)",
   "language": "python",
   "name": "python38-conda"
  },
  "language_info": {
   "codemirror_mode": {
    "name": "ipython",
    "version": 3
   },
   "file_extension": ".py",
   "mimetype": "text/x-python",
   "name": "python",
   "nbconvert_exporter": "python",
   "pygments_lexer": "ipython3",
   "version": "3.8.5"
  }
 },
 "nbformat": 4,
 "nbformat_minor": 5
}
