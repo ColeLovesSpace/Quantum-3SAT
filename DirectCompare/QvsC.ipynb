{
 "cells": [
  {
   "cell_type": "code",
   "execution_count": 1,
   "id": "touched-bulletin",
   "metadata": {},
   "outputs": [],
   "source": [
    "# Needed for functions\n",
    "import time\n",
    "import numpy as np\n",
    "from numpy import pi\n",
    "from copy import deepcopy\n",
    "import pandas as pd\n",
    "import matplotlib.pyplot as plt\n",
    "from collections import Counter\n",
    "import random\n",
    "\n",
    "#import packages for classical algorithm\n",
    "import ctypes\n",
    "from numpy import ctypeslib as npct\n",
    "\n",
    "#import packages for quantum algorithm\n",
    "from qiskit import *\n",
    "from qiskit.tools.jupyter import *\n",
    "from qiskit.visualization import *\n",
    "import qiskit.quantum_info as qi"
   ]
  },
  {
   "cell_type": "code",
   "execution_count": 2,
   "id": "earlier-forum",
   "metadata": {},
   "outputs": [],
   "source": [
    "#initialize variables for classical solver\n",
    "array_1d_double = npct.ndpointer(dtype=np.double, ndim=1, flags='CONTIGUOUS')\n",
    "array_1d_int = npct.ndpointer(dtype=np.int_, ndim=1, flags='CONTIGUOUS')\n",
    "\n",
    "c_lib_numpy = npct.load_library(\"lib/SATProbCalc.so\", \".\")\n",
    "\n",
    "c_lib_numpy.SolveSATbpp.restype = ctypes.c_int #ctypes.POINTER(ctypes.c_double * (10**2))\n",
    "c_lib_numpy.SolveSATbpp.argtypes = [ctypes.c_int, array_1d_double, ctypes.c_int, ctypes.c_int]\n",
    "\n",
    "def SolveSATbpp(n, sat, clauses, iterations):\n",
    "    steps = c_lib_numpy.SolveSATbpp(n, sat.flatten(), clauses, iterations)\n",
    "    return steps"
   ]
  },
  {
   "cell_type": "code",
   "execution_count": 3,
   "id": "experienced-inflation",
   "metadata": {
    "tags": []
   },
   "outputs": [],
   "source": [
    "def buildSatSingleSolution(numVar):\n",
    "    sat = [[-1,-2,-3],[-1,2,3],[1,-2,3],[1,2,-3],[-1,-2,3],[-1,2,-3],[1,-2,-3]]\n",
    "    for n in range(4,numVar+1):\n",
    "        sat.append([-2,-3,-n])\n",
    "        sat.append([2,3,-n])\n",
    "        sat.append([-2,-3,n])\n",
    "    return sat"
   ]
  },
  {
   "cell_type": "code",
   "execution_count": 4,
   "id": "average-advance",
   "metadata": {
    "tags": []
   },
   "outputs": [],
   "source": [
    "def classicalStatistics(n, SAT, c, i, numRuns):\n",
    "    \n",
    "    stepList = []\n",
    "    for x in range(numRuns):\n",
    "        stepList.append(SolveSATbpp(n, SAT, c, i))\n",
    "    \n",
    "    counter = Counter(stepList)\n",
    "    res = {item: count for item, count in counter.items()}\n",
    "#     print(res)\n",
    "    \n",
    "    return stepList"
   ]
  },
  {
   "cell_type": "code",
   "execution_count": 5,
   "id": "opening-senegal",
   "metadata": {
    "tags": []
   },
   "outputs": [],
   "source": [
    "def classicalSolve2():\n",
    "    n = 6\n",
    "    c = 3*n - 2\n",
    "    i = 1000\n",
    "    \n",
    "    SAT = buildSatSingleSolution(n)\n",
    "\n",
    "    SAT = np.array(SAT).astype('double')\n",
    "#     for x in range(len(SAT)):\n",
    "#         SAT[x] = -SAT[x]\n",
    "    # print(SAT)\n",
    "\n",
    "    start = time.time()\n",
    "    res = classicalStatistics(n, SAT, c, i, 10000000)\n",
    "    print(\"C++ time to solve: \" , start - time.time())\n",
    "\n",
    "    return res\n",
    "\n",
    "def classicalSolve():\n",
    "    n = 4\n",
    "    c = 2\n",
    "    i = 1000\n",
    "    \n",
    "    SAT = [[-1,2,3],[1,2,-4]]\n",
    "\n",
    "    SAT = np.array(SAT).astype('double')\n",
    "#     for x in range(len(SAT)):\n",
    "#         SAT[x] = -SAT[x]\n",
    "    # print(SAT)\n",
    "\n",
    "    start = time.time()\n",
    "    res = classicalStatistics(n, SAT, c, i, 10000000)\n",
    "    print(\"C++ time to solve: \" , start - time.time())\n",
    "\n",
    "    return res"
   ]
  },
  {
   "cell_type": "code",
   "execution_count": 6,
   "id": "fitting-outdoors",
   "metadata": {},
   "outputs": [],
   "source": [
    "def checkSAT(SAT, state, c, n):\n",
    "        \n",
    "    for t in range(c):\n",
    "        # //get the variables the clause is interested in\n",
    "        seive = (1 << (abs(int(SAT[t][0])) - 1)) + (1 << (int(abs(SAT[t][1])) - 1)) + (1 << (int(abs(SAT[t][2])) - 1))\n",
    "        # //get the values in the clause to xor\n",
    "        gate = 0\n",
    "            \n",
    "        if (SAT[t][0] > 0):\n",
    "            gate += 1 << (abs(int((SAT[t][0]))) - 1)\n",
    "        if (SAT[t][1] > 0):\n",
    "            gate += 1 << (abs(int((SAT[t][1]))) - 1)\n",
    "        if (SAT[t][2] > 0):\n",
    "            gate += 1 << (abs(int((SAT[t][2]))) - 1)\n",
    "\n",
    "        a = seive & state\n",
    "        b = gate ^ a\n",
    "\n",
    "        if (b == 0):\n",
    "            return False\n",
    "    return True"
   ]
  },
  {
   "cell_type": "code",
   "execution_count": 7,
   "id": "powered-canada",
   "metadata": {},
   "outputs": [],
   "source": [
    "def exhausting(SAT,c,n):\n",
    "#     print(1 << 1 == 2)\n",
    "    solutions = []\n",
    "    \n",
    "    for t in range(c):\n",
    "        print((int(SAT[t][0])),\" \",(int(SAT[t][1])),\" \",(int(SAT[t][2])))\n",
    "    \n",
    "    for s in range(0,2**n):\n",
    "        \n",
    "        state = int(s)\n",
    "        if(checkSAT(SAT, state, c, n)):\n",
    "            solutions.append(state)\n",
    "    return solutions\n",
    "            "
   ]
  },
  {
   "cell_type": "code",
   "execution_count": 8,
   "id": "sustained-organ",
   "metadata": {
    "jupyter": {
     "source_hidden": true
    },
    "tags": []
   },
   "outputs": [],
   "source": [
    "def genRandomSAT(SAT,c,n):\n",
    "#     print(1 << 1 == 2)\n",
    "    solutions = []\n",
    "    \n",
    "    \n",
    "    for t in range(c):\n",
    "        print((int(SAT[t][0])),\" \",(int(SAT[t][1])),\" \",(int(SAT[t][2])))\n",
    "    \n",
    "    for s in range(0,2**n):\n",
    "        \n",
    "        state = int(s)\n",
    "        if(checkSAT(SAT, state, c, n)):\n",
    "            solutions.append(state)\n",
    "    return solutions\n",
    "            \n",
    "# n = 7\n",
    "# c = 3*n - 2\n",
    "# # i = 1000\n",
    "\n",
    "# SAT = buildSatSingleSolution(n)\n",
    "# # random.shuffle(SAT)\n",
    "# solutions = exhausting(SAT,c,n)\n",
    "# print(solutions)"
   ]
  },
  {
   "cell_type": "code",
   "execution_count": 11,
   "id": "optional-damages",
   "metadata": {},
   "outputs": [
    {
     "name": "stdout",
     "output_type": "stream",
     "text": [
      "C++ time to solve:  -82.11081147193909\n"
     ]
    },
    {
     "data": {
      "text/plain": [
       "[<matplotlib.lines.Line2D at 0x15550925be80>]"
      ]
     },
     "execution_count": 11,
     "metadata": {},
     "output_type": "execute_result"
    },
    {
     "data": {
      "image/png": "[encoded data removed]",
      "text/plain": [
       "<Figure size 432x288 with 1 Axes>"
      ]
     },
     "metadata": {
      "needs_background": "light"
     },
     "output_type": "display_data"
    }
   ],
   "source": [
    "res = classicalSolve2()\n",
    "\n",
    "# myKeys = list(res.keys())\n",
    "# myKeys.sort()\n",
    "# sorted_dict = {i: res[i] for i in myKeys}\n",
    " \n",
    "# print(sorted_dict)\n",
    "\n",
    "values, base = np.histogram(res, bins=40)\n",
    "#evaluate the cumulative\n",
    "cumulative = np.cumsum(values)\n",
    "# plot the cumulative function\n",
    "plt.plot(base[:-1], cumulative, c='blue')\n",
    "\n",
    "# cumsum = np.cumsum(sorted_dict.values())\n",
    "# # plt.plot(list(map(int,sorted_dict.keys())),sorted_dict.values())\n",
    "# plt.plot(list(map(int,sorted_dict.keys())),cumsum)\n"
   ]
  },
  {
   "cell_type": "code",
   "execution_count": 10,
   "id": "lonely-dealer",
   "metadata": {},
   "outputs": [
    {
     "name": "stdout",
     "output_type": "stream",
     "text": [
      "C++ time to solve:  -61.64433193206787\n"
     ]
    },
    {
     "ename": "AttributeError",
     "evalue": "'list' object has no attribute 'keys'",
     "output_type": "error",
     "traceback": [
      "\u001b[0;31m---------------------------------------------------------------------------\u001b[0m",
      "\u001b[0;31mAttributeError\u001b[0m                            Traceback (most recent call last)",
      "\u001b[0;32m<ipython-input-10-02a77a318aa6>\u001b[0m in \u001b[0;36m<module>\u001b[0;34m\u001b[0m\n\u001b[1;32m      1\u001b[0m \u001b[0mres\u001b[0m \u001b[0;34m=\u001b[0m \u001b[0mclassicalSolve\u001b[0m\u001b[0;34m(\u001b[0m\u001b[0;34m)\u001b[0m\u001b[0;34m\u001b[0m\u001b[0;34m\u001b[0m\u001b[0m\n\u001b[1;32m      2\u001b[0m \u001b[0;34m\u001b[0m\u001b[0m\n\u001b[0;32m----> 3\u001b[0;31m \u001b[0mmyKeys\u001b[0m \u001b[0;34m=\u001b[0m \u001b[0mlist\u001b[0m\u001b[0;34m(\u001b[0m\u001b[0mres\u001b[0m\u001b[0;34m.\u001b[0m\u001b[0mkeys\u001b[0m\u001b[0;34m(\u001b[0m\u001b[0;34m)\u001b[0m\u001b[0;34m)\u001b[0m\u001b[0;34m\u001b[0m\u001b[0;34m\u001b[0m\u001b[0m\n\u001b[0m\u001b[1;32m      4\u001b[0m \u001b[0mmyKeys\u001b[0m\u001b[0;34m.\u001b[0m\u001b[0msort\u001b[0m\u001b[0;34m(\u001b[0m\u001b[0;34m)\u001b[0m\u001b[0;34m\u001b[0m\u001b[0;34m\u001b[0m\u001b[0m\n\u001b[1;32m      5\u001b[0m \u001b[0msorted_dict\u001b[0m \u001b[0;34m=\u001b[0m \u001b[0;34m{\u001b[0m\u001b[0mi\u001b[0m\u001b[0;34m:\u001b[0m \u001b[0mres\u001b[0m\u001b[0;34m[\u001b[0m\u001b[0mi\u001b[0m\u001b[0;34m]\u001b[0m \u001b[0;32mfor\u001b[0m \u001b[0mi\u001b[0m \u001b[0;32min\u001b[0m \u001b[0mmyKeys\u001b[0m\u001b[0;34m}\u001b[0m\u001b[0;34m\u001b[0m\u001b[0;34m\u001b[0m\u001b[0m\n",
      "\u001b[0;31mAttributeError\u001b[0m: 'list' object has no attribute 'keys'"
     ]
    }
   ],
   "source": [
    "res = classicalSolve2()\n",
    "\n",
    "myKeys = list(res.keys())\n",
    "myKeys.sort()\n",
    "sorted_dict = {i: res[i] for i in myKeys}\n",
    "\n",
    " \n",
    "print(sorted_dict)\n",
    "\n",
    "plt.plot(list(map(int,sorted_dict.keys())),sorted_dict.values())"
   ]
  },
  {
   "cell_type": "code",
   "execution_count": null,
   "id": "posted-trace",
   "metadata": {},
   "outputs": [],
   "source": [
    "res = classicalSolve()\n",
    "\n",
    "myKeys = list(res.keys())\n",
    "myKeys.sort()\n",
    "sorted_dict = {i: res[i] for i in myKeys}\n",
    "\n",
    " \n",
    "print(sorted_dict)\n",
    "\n",
    "plt.plot(list(map(int,sorted_dict.keys())),sorted_dict.values())"
   ]
  },
  {
   "cell_type": "code",
   "execution_count": null,
   "id": "civilian-passion",
   "metadata": {},
   "outputs": [],
   "source": []
  },
  {
   "cell_type": "code",
   "execution_count": null,
   "id": "ordered-lying",
   "metadata": {},
   "outputs": [],
   "source": []
  }
 ],
 "metadata": {
  "kernelspec": {
   "display_name": "Python 3.8 (conda)",
   "language": "python",
   "name": "python38-conda"
  },
  "language_info": {
   "codemirror_mode": {
    "name": "ipython",
    "version": 3
   },
   "file_extension": ".py",
   "mimetype": "text/x-python",
   "name": "python",
   "nbconvert_exporter": "python",
   "pygments_lexer": "ipython3",
   "version": "3.8.5"
  }
 },
 "nbformat": 4,
 "nbformat_minor": 5
}
