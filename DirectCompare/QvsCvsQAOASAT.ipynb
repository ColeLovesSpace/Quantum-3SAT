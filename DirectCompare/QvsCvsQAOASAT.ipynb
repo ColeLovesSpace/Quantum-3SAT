{
 "cells": [
  {
   "cell_type": "markdown",
   "id": "provincial-capital",
   "metadata": {},
   "source": [
    "# Direct Comparison of Quantum 3SAT algorithm, QAOASAT, and classical counterpart.  "
   ]
  },
  {
   "cell_type": "markdown",
   "id": "digital-pressure",
   "metadata": {},
   "source": [
    "## Shared functions/dependencies "
   ]
  },
  {
   "cell_type": "code",
   "execution_count": 2,
   "id": "gentle-hazard",
   "metadata": {
    "tags": []
   },
   "outputs": [],
   "source": [
    "# Needed for functions\n",
    "import time\n",
    "import numpy as np\n",
    "from numpy import pi\n",
    "from copy import deepcopy\n",
    "import pandas as pd\n",
    "import matplotlib.pyplot as plt\n",
    "from collections import Counter\n",
    "import random\n",
    "from QSAT import *\n",
    "from Shonings import *\n",
    "\n",
    "#import packages for classical algorithm\n",
    "import ctypes\n",
    "from numpy import ctypeslib as npct\n",
    "\n",
    "#import packages for quantum algorithm\n",
    "from qiskit import *\n",
    "from qiskit.tools.jupyter import *\n",
    "from qiskit.visualization import *\n",
    "import qiskit.quantum_info as qi\n",
    "\n",
    "from qiskit import Aer, transpile\n",
    "# import qiskit.providers.aer\n",
    "from qiskit_aer import AerError"
   ]
  },
  {
   "cell_type": "markdown",
   "id": "superior-california",
   "metadata": {},
   "source": []
  },
  {
   "cell_type": "markdown",
   "id": "bored-drawing",
   "metadata": {},
   "source": [
    "## Exhaustive search for solution"
   ]
  },
  {
   "cell_type": "markdown",
   "id": "amazing-method",
   "metadata": {},
   "source": [
    "Helper functions for classical exhaustive search of solutions to SAT instance"
   ]
  },
  {
   "cell_type": "code",
   "execution_count": 3,
   "id": "guilty-resident",
   "metadata": {
    "jupyter": {
     "source_hidden": true
    },
    "tags": []
   },
   "outputs": [],
   "source": [
    "def checkSAT(SAT, state, c, n):\n",
    "        \n",
    "    for t in range(c):\n",
    "        # //get the variables the clause is interested in\n",
    "        seive = (1 << (abs(int(SAT[t][0])) - 1)) + (1 << (int(abs(SAT[t][1])) - 1)) + (1 << (int(abs(SAT[t][2])) - 1))\n",
    "        # //get the values in the clause to xor\n",
    "        gate = 0\n",
    "            \n",
    "        if (SAT[t][0] > 0):\n",
    "            gate += 1 << (abs(int((SAT[t][0]))) - 1)\n",
    "        if (SAT[t][1] > 0):\n",
    "            gate += 1 << (abs(int((SAT[t][1]))) - 1)\n",
    "        if (SAT[t][2] > 0):\n",
    "            gate += 1 << (abs(int((SAT[t][2]))) - 1)\n",
    "\n",
    "        a = seive & state\n",
    "        b = gate ^ a\n",
    "\n",
    "        if (b == 0):\n",
    "            return False\n",
    "    return True\n",
    "\n",
    "def exhausting(SAT,c,n):\n",
    "    solutions = []\n",
    "#     for t in range(c):\n",
    "#         print((int(SAT[t][0])),\" \",(int(SAT[t][1])),\" \",(int(SAT[t][2])))\n",
    "    \n",
    "    for s in range(0,2**n):\n",
    "        state = int(s)\n",
    "        if(checkSAT(SAT, state, c, n)):\n",
    "            solutions.append(state)\n",
    "    return solutions\n",
    "            "
   ]
  },
  {
   "cell_type": "code",
   "execution_count": 4,
   "id": "complimentary-gibson",
   "metadata": {
    "jupyter": {
     "source_hidden": true
    },
    "tags": []
   },
   "outputs": [],
   "source": [
    "# SAT = buildSatSingleSolution(n)\n",
    "# # random.shuffle(SAT)\n",
    "# solutions = exhausting(SAT,c,n)\n",
    "# print(solutions)\n",
    "\n",
    "# myKeys = list(res.keys())\n",
    "# myKeys.sort()\n",
    "# sorted_dict = {i: res[i] for i in myKeys}\n",
    " \n",
    "# print(sorted_dict)\n",
    "# plt.plot(list(map(int,sorted_dict.keys())),sorted_dict.values())"
   ]
  },
  {
   "cell_type": "markdown",
   "id": "annoying-gibson",
   "metadata": {},
   "source": [
    "# Test and compare quantum and classical algorithms"
   ]
  },
  {
   "cell_type": "code",
   "execution_count": 5,
   "id": "christian-vegetarian",
   "metadata": {
    "tags": []
   },
   "outputs": [],
   "source": [
    "def setup(n,nc,nSAT):\n",
    "    par = {}\n",
    "    par['nQ'] = n\n",
    "    par['nC'] = nc\n",
    "    par['nSAT'] = nSAT\n",
    "    par['sat'] = buildSatSingleSolution(par['nQ'])\n",
    "    par['satList'] = SATset(n,nc,nSAT)\n",
    "    par['numRepeats'] = 1000\n",
    "    par['numIt'] = 5\n",
    "    par['maxIt'] = n**2\n",
    "\n",
    "    #Plotting Conditionals\n",
    "    par['latex'] = True\n",
    "    par['statevector'] = True\n",
    "    par['saveEnd'] = False\n",
    "    par['figName'] = \"plots/QAOASAT/{:0>3}.png\".format(par['nQ'])\n",
    "    par['xAsis'] = \"$\\frac{c}{v}$\"\n",
    "    par['yAsis'] = \"$P(\\text{solved})_{i<\"+\"+{}\".format(par['maxIt'])+\"}$\"\n",
    "    \n",
    "    par['measure'] = False\n",
    "    par['had'] = True\n",
    "    \n",
    "    par['gpu'] = False\n",
    "    \n",
    "    state = ''\n",
    "    for q in range(n):\n",
    "        state = state + '0'\n",
    "    par['state'] = state\n",
    "    \n",
    "    return par"
   ]
  },
  {
   "cell_type": "markdown",
   "id": "young-citation",
   "metadata": {},
   "source": [
    "Initialize parameters for SAT instance"
   ]
  },
  {
   "cell_type": "code",
   "execution_count": 6,
   "id": "public-ultimate",
   "metadata": {},
   "outputs": [],
   "source": [
    "par = setup(6,24,1)"
   ]
  },
  {
   "cell_type": "markdown",
   "id": "younger-middle",
   "metadata": {},
   "source": [
    "Run statistical test of modified Shonings algorithm"
   ]
  },
  {
   "cell_type": "code",
   "execution_count": 7,
   "id": "duplicate-logistics",
   "metadata": {},
   "outputs": [
    {
     "name": "stdout",
     "output_type": "stream",
     "text": [
      "C++ time to solve:  -0.018880367279052734\n"
     ]
    }
   ],
   "source": [
    "res = classicalSolve(par['nQ'],par['satList'][0],par['nC'],par['maxIt'],par['numRepeats'])\n",
    "\n",
    "\n",
    "cutoff = [x for x in res if x < par['maxIt']-1]\n",
    "values, base = np.histogram(cutoff, bins=par['nQ']**2)\n",
    "# values, base = np.histogram(res, bins=n**2)\n",
    "#evaluate the cumulative\n",
    "cumulative = np.cumsum(values)\n"
   ]
  },
  {
   "cell_type": "code",
   "execution_count": 8,
   "id": "spread-gamma",
   "metadata": {},
   "outputs": [
    {
     "name": "stdout",
     "output_type": "stream",
     "text": [
      "{13}\n",
      "[   0    0    0    0    0    0    0    0    0    0    0    0    0    0\n",
      "    0    0    0    0 1000 1000 1000 1000 1000 1000 1000 1000 1000 1000\n",
      " 1000 1000 1000 1000 1000 1000 1000 1000]\n"
     ]
    }
   ],
   "source": [
    "print(set(res))\n",
    "print(cumulative)"
   ]
  },
  {
   "cell_type": "markdown",
   "id": "suburban-candidate",
   "metadata": {},
   "source": [
    "Run statistical test of regular Shonings algorithm"
   ]
  },
  {
   "cell_type": "code",
   "execution_count": 9,
   "id": "polar-vietnamese",
   "metadata": {},
   "outputs": [
    {
     "name": "stdout",
     "output_type": "stream",
     "text": [
      "C++ time to solve:  -0.01145172119140625\n",
      "[   0    0    0    0    0    0    0    0    0    0    0    0    0    0\n",
      "    0    0    0    0 1000 1000 1000 1000 1000 1000 1000 1000 1000 1000\n",
      " 1000 1000 1000 1000 1000 1000 1000 1000]\n"
     ]
    }
   ],
   "source": [
    "resS = classicalSolveS(par['nQ'],par['satList'][0],par['nC'],par['maxIt'],par['numRepeats'])\n",
    "cutoffS = [x for x in resS if x < par['maxIt']-1]\n",
    "valuesS, baseS = np.histogram(cutoffS, bins=par['nQ']**2)\n",
    "# valuesS, baseS = np.histogram(resS, bins=n**2)\n",
    "#evaluate the cumulative\n",
    "cumulativeS = np.cumsum(valuesS)\n",
    "print(cumulativeS)"
   ]
  },
  {
   "cell_type": "code",
   "execution_count": 10,
   "id": "danish-growth",
   "metadata": {
    "tags": []
   },
   "outputs": [
    {
     "name": "stdout",
     "output_type": "stream",
     "text": [
      "[23, 31, 48]\n",
      "[[-6, -5, -3], [-6, -5, -2], [-6, -5, -1], [-6, -5, 2], [-6, -4, -1], [-6, -3, 4], [-6, -2, 5], [-5, -4, 2], [-5, -3, -1], [-5, -3, 2], [-5, -1, 3], [-5, 1, 2], [-5, 1, 4], [-4, -3, 1], [-4, 3, 6], [-3, -2, 4], [-3, 1, 6], [-2, 1, 3], [-2, 3, 5], [-1, 2, 5], [-1, 2, 6], [-1, 3, 6], [-1, 4, 5], [4, 5, 6]]\n"
     ]
    }
   ],
   "source": [
    "solutions = exhausting(par['satList'][0],par['nC'],par['nQ'])\n",
    "print(solutions)\n",
    "print(par['satList'][0])"
   ]
  },
  {
   "cell_type": "markdown",
   "id": "front-adolescent",
   "metadata": {},
   "source": [
    "Run test of quantum algorithm"
   ]
  },
  {
   "cell_type": "code",
   "execution_count": 11,
   "id": "hollywood-contemporary",
   "metadata": {},
   "outputs": [
    {
     "name": "stdout",
     "output_type": "stream",
     "text": [
      "Iteration 1 took -0.39547157287597656\n",
      "Iteration 1 took -0.8506624698638916\n",
      "Iteration 2 took -0.7889738082885742\n",
      "Iteration 2 took -1.559340238571167\n",
      "Iteration 3 took -1.1650538444519043\n",
      "Iteration 3 took -2.30444073677063\n",
      "Iteration 4 took -1.5425550937652588\n",
      "Iteration 4 took -3.0600931644439697\n",
      "Iteration 5 took -1.9276556968688965\n",
      "Iteration 5 took -3.814260244369507\n",
      "Iteration 6 took -2.395298480987549\n",
      "Iteration 6 took -4.670134544372559\n",
      "Iteration 7 took -2.7224864959716797\n",
      "Iteration 7 took -5.358592510223389\n",
      "Iteration 8 took -3.0709400177001953\n",
      "Iteration 8 took -6.117370367050171\n",
      "Iteration 9 took -3.5700061321258545\n",
      "Iteration 9 took -6.961621999740601\n",
      "Iteration 10 took -3.8537070751190186\n",
      "Iteration 10 took -7.687365770339966\n",
      "Iteration 11 took -4.374840974807739\n",
      "Iteration 11 took -8.537639141082764\n",
      "Iteration 12 took -4.83106255531311\n",
      "Iteration 12 took -9.57117486000061\n",
      "Iteration 13 took -5.069803237915039\n",
      "Iteration 13 took -9.992525100708008\n",
      "Iteration 14 took -5.514561891555786\n",
      "Iteration 14 took -10.922500133514404\n",
      "Iteration 15 took -5.909448146820068\n",
      "Iteration 15 took -11.592178106307983\n",
      "Iteration 16 took -6.164212226867676\n",
      "Iteration 16 took -12.334059715270996\n",
      "Iteration 17 took -6.562127351760864\n",
      "Iteration 17 took -13.200048208236694\n",
      "Iteration 18 took -7.028002023696899\n",
      "Iteration 18 took -13.97534441947937\n",
      "Iteration 19 took -7.343785285949707\n",
      "Iteration 19 took -14.825536012649536\n",
      "Iteration 20 took -7.989142656326294\n",
      "Iteration 20 took -15.68102765083313\n",
      "Iteration 21 took -8.152352333068848\n",
      "Iteration 21 took -16.556385278701782\n",
      "Iteration 22 took -8.699781894683838\n",
      "Iteration 22 took -17.034968852996826\n",
      "Iteration 23 took -8.997528076171875\n",
      "Iteration 23 took -17.81879162788391\n",
      "Iteration 24 took -9.424157857894897\n",
      "Iteration 24 took -18.52359127998352\n",
      "Iteration 25 took -9.743398666381836\n",
      "Iteration 25 took -19.420445442199707\n",
      "Iteration 26 took -10.307061910629272\n",
      "Iteration 26 took -20.244532823562622\n",
      "Iteration 27 took -10.494648456573486\n",
      "Iteration 27 took -21.100717544555664\n",
      "Iteration 28 took -11.056009292602539\n",
      "Iteration 28 took -21.677589654922485\n",
      "Iteration 29 took -11.332649230957031\n",
      "Iteration 29 took -22.56989026069641\n",
      "Iteration 30 took -11.774522542953491\n",
      "Iteration 30 took -23.19852113723755\n",
      "Iteration 31 took -12.128469467163086\n",
      "Iteration 31 took -24.00934076309204\n",
      "Iteration 32 took -12.795005321502686\n",
      "Iteration 32 took -25.09052300453186\n",
      "Iteration 33 took -13.176035642623901\n",
      "Iteration 33 took -26.17796277999878\n",
      "Iteration 34 took -13.34789514541626\n",
      "Iteration 34 took -26.444146871566772\n",
      "Iteration 35 took -13.607836484909058\n",
      "Iteration 35 took -27.10081911087036\n",
      "Iteration 36 took -14.134566068649292\n",
      "Iteration 36 took -27.90948748588562\n"
     ]
    },
    {
     "data": {
      "image/png": "[encoded data removed]",
      "text/plain": [
       "<Figure size 432x288 with 1 Axes>"
      ]
     },
     "metadata": {
      "needs_background": "light"
     },
     "output_type": "display_data"
    }
   ],
   "source": [
    "maxIt = par['maxIt']#c#n**2\n",
    "probList = []\n",
    "entropyList = []\n",
    "probList2 = []\n",
    "entropyList2 = []\n",
    "xs = np.linspace(1,maxIt,num = maxIt,dtype='int')\n",
    "par['sat'] = par['satList'][0]\n",
    "if par['gpu']:\n",
    "    # Initialize a GPU backend\n",
    "    # Note that the cloud instance for tutorials does not have a GPU\n",
    "    # so this will raise an exception.\n",
    "    try:\n",
    "        simulator_density_matrix = Aer.get_backend('aer_simulator_density_matrix')\n",
    "        simulator_density_matrix.set_options(device='GPU')\n",
    "    except AerError as e:\n",
    "        print(e)\n",
    "        \n",
    "    for it in xs:\n",
    "        par['numIt']  = it\n",
    "        shots = 10000\n",
    "\n",
    "        # Build circuit\n",
    "        start = time.time()\n",
    "        qc = buildCircuit(par,True)\n",
    "        circ = transpile(qc, simulator_density_matrix, optimization_level=0)\n",
    "        job_density_matrix = simulator_density_matrix.run(circ, shots=shots)\n",
    "        counts_density_matrix = job_density_matrix.result().get_counts(0)\n",
    "\n",
    "        print(\"Iteration \" + str(it) + \" took \" + str(start-time.time()))\n",
    "\n",
    "        total = 0\n",
    "        for state in counts_density_matrix:\n",
    "            if(checkSAT(par['sat'], int(state, 2), len(par['sat']), par['nQ'])):\n",
    "                total += counts_density_matrix[state]\n",
    "\n",
    "        probList.append(total/shots)\n",
    "else:\n",
    "    for it in xs:\n",
    "        par['numIt']  = it\n",
    "\n",
    "        # Build circuit\n",
    "        start = time.time()\n",
    "        qc = buildCircuit(par,False)\n",
    "        qc2 = buildCircuitNOT(par,False)#*Borat voice*\n",
    "\n",
    "        if(par['statevector']):\n",
    "            # Execute and get counts\n",
    "            DM = qi.DensityMatrix.from_instruction(qc)\n",
    "            # probs = DM.probabilities_dict()\n",
    "            DM2 = qi.partial_trace(DM,[par['nQ']])\n",
    "            probs = DM2.probabilities_dict()\n",
    "            entropyList.append(qi.entropy(DM2))\n",
    "\n",
    "        print(\"Iteration \" + str(it) + \" took \" + str(start-time.time()))\n",
    "\n",
    "        names = list(probs.keys())\n",
    "        values = list(probs.values())\n",
    "\n",
    "        totalProb = 0\n",
    "        for s in solutions:\n",
    "            totalProb += list(probs.values())[s]\n",
    "        probList.append(totalProb)\n",
    "        \n",
    "        if(par['statevector']):\n",
    "            # Execute and get counts\n",
    "            DM2 = qi.DensityMatrix.from_instruction(qc2)\n",
    "            # probs = DM.probabilities_dict()\n",
    "            DM22 = qi.partial_trace(DM2,[par['nQ']])\n",
    "            probs2 = DM22.probabilities_dict()\n",
    "            entropyList2.append(qi.entropy(DM22))\n",
    "\n",
    "        print(\"Iteration \" + str(it) + \" took \" + str(start-time.time()))\n",
    "\n",
    "        names2 = list(probs2.keys())\n",
    "        values2 = list(probs2.values())\n",
    "#         print(names2)\n",
    "#         print(values2)\n",
    "\n",
    "        totalProb2 = 0\n",
    "#         print(solutions)\n",
    "        for s in solutions:\n",
    "#             print(s)\n",
    "            totalProb2 += probs2[f'{s:06b}']\n",
    "        probList2.append(totalProb2)\n",
    "#         print(totalProb2)\n",
    "    plt.plot(xs, entropyList, c='red')\n",
    "    plt.plot(xs, entropyList2, c='magenta')\n",
    "    "
   ]
  },
  {
   "cell_type": "code",
   "execution_count": 12,
   "id": "mechanical-antigua",
   "metadata": {},
   "outputs": [
    {
     "data": {
      "text/plain": [
       "[<matplotlib.lines.Line2D at 0x1555026d0280>]"
      ]
     },
     "execution_count": 12,
     "metadata": {},
     "output_type": "execute_result"
    },
    {
     "data": {
      "image/png": "[encoded data removed]",
      "text/plain": [
       "<Figure size 432x288 with 1 Axes>"
      ]
     },
     "metadata": {
      "needs_background": "light"
     },
     "output_type": "display_data"
    }
   ],
   "source": [
    "plt.plot(base[:-1]+1, cumulative/par['maxIt'], c='blue')\n",
    "plt.plot(baseS[:-1]+1, cumulativeS/par['maxIt'], c='green')\n",
    "plt.plot(xs, probList, c='red')\n",
    "plt.plot(xs, probList2, c='magenta')\n",
    "# plt.plot(base[:]+1, cumulative/numIt, c='blue')\n",
    "# plt.plot(baseS[:]+1, cumulativeS/numIt, c='green')\n",
    "# plt.plot(xs, probList, c='red')"
   ]
  },
  {
   "cell_type": "code",
   "execution_count": 1,
   "id": "veterinary-arrangement",
   "metadata": {},
   "outputs": [
    {
     "ename": "NameError",
     "evalue": "name 'probList' is not defined",
     "output_type": "error",
     "traceback": [
      "\u001b[0;31m---------------------------------------------------------------------------\u001b[0m",
      "\u001b[0;31mNameError\u001b[0m                                 Traceback (most recent call last)",
      "\u001b[0;32m<ipython-input-1-073c55f40ad3>\u001b[0m in \u001b[0;36m<module>\u001b[0;34m\u001b[0m\n\u001b[0;32m----> 1\u001b[0;31m \u001b[0mprint\u001b[0m\u001b[0;34m(\u001b[0m\u001b[0mprobList\u001b[0m\u001b[0;34m[\u001b[0m\u001b[0;34m-\u001b[0m\u001b[0;36m1\u001b[0m\u001b[0;34m]\u001b[0m\u001b[0;34m)\u001b[0m\u001b[0;34m\u001b[0m\u001b[0;34m\u001b[0m\u001b[0m\n\u001b[0m",
      "\u001b[0;31mNameError\u001b[0m: name 'probList' is not defined"
     ]
    }
   ],
   "source": [
    "print(probList[-1])"
   ]
  },
  {
   "cell_type": "code",
   "execution_count": 20,
   "id": "stretch-appearance",
   "metadata": {},
   "outputs": [
    {
     "data": {
      "image/png": "[encoded data removed]",
      "text/plain": [
       "<Figure size 432x288 with 1 Axes>"
      ]
     },
     "metadata": {
      "needs_background": "light"
     },
     "output_type": "display_data"
    }
   ],
   "source": [
    "plt.plot(base[:-1]+1, cumulative/numIt, c='blue')\n",
    "plt.plot(baseS[:-1]+1, cumulativeS/numIt, c='green')\n",
    "plt.plot(xs, probList, c='red')\n",
    "plt.xscale('log')\n",
    "plt.yscale('log')"
   ]
  },
  {
   "cell_type": "code",
   "execution_count": 21,
   "id": "binary-traveler",
   "metadata": {},
   "outputs": [
    {
     "data": {
      "image/png": "[encoded data removed]",
      "text/plain": [
       "<Figure size 432x288 with 1 Axes>"
      ]
     },
     "metadata": {
      "needs_background": "light"
     },
     "output_type": "display_data"
    }
   ],
   "source": [
    "plt.plot(base[:-1]+1, cumulative/numIt, c='blue')\n",
    "plt.plot(baseS[:-1]+1, cumulativeS/numIt, c='green')\n",
    "plt.plot(xs, probList, c='red')\n",
    "plt.xscale('log')"
   ]
  },
  {
   "cell_type": "code",
   "execution_count": null,
   "id": "paperback-motorcycle",
   "metadata": {},
   "outputs": [],
   "source": []
  }
 ],
 "metadata": {
  "kernelspec": {
   "display_name": "Python 3.8 (conda)",
   "language": "python",
   "name": "python38-conda"
  },
  "language_info": {
   "codemirror_mode": {
    "name": "ipython",
    "version": 3
   },
   "file_extension": ".py",
   "mimetype": "text/x-python",
   "name": "python",
   "nbconvert_exporter": "python",
   "pygments_lexer": "ipython3",
   "version": "3.8.5"
  }
 },
 "nbformat": 4,
 "nbformat_minor": 5
}
