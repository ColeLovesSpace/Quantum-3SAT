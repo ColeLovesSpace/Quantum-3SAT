{
 "cells": [
  {
   "cell_type": "code",
   "execution_count": 11,
   "id": "natural-cholesterol",
   "metadata": {},
   "outputs": [],
   "source": [
    "def itsToFifty(n):\n",
    "    numStates = 2**n\n",
    "    fundamentalProb = 1/numStates\n",
    "    probSat = fundamentalProb   #probability in the single sat state\n",
    "    probUnsat = fundamentalProb #probability in each unsatisfiable state\n",
    "    \n",
    "    sat = []\n",
    "    unsat = []\n",
    "    \n",
    "    i = 0\n",
    "    #loop through iterations\n",
    "    while probSat < 1/2:\n",
    "        i+=1\n",
    "        \n",
    "        for c in range(8):\n",
    "        \n",
    "            probSat += (1/8)*probUnsat\n",
    "            probUnsat *= 9/8\n",
    "        \n",
    "        #each clause hits 2^{n - 3} states who will all have their probability spread over all 2^n states. Thus the sat state gets a boost of (1/8 * numStates)*(probUnsat)/numStates\n",
    "\n",
    "        \n",
    "        \n",
    "        probUnsat = (1-probSat)/(numStates - 1)\n",
    "        \n",
    "        sat.append(probSat)\n",
    "        unsat.append(probUnsat*(numStates - 1))\n",
    "        \n",
    "    return i, sat, unsat\n",
    "        "
   ]
  },
  {
   "cell_type": "markdown",
   "id": "chinese-testing",
   "metadata": {},
   "source": [
    "# Worst Case Analysis Attempt\n",
    "\n",
    "## Assumptions \n",
    "- There is only one solution\n",
    "- The least amount of clauses which would hit all $2^n - 1$ states would be 8 cluases, since each clause hits $2^{n - 3}$ states. This is unrealistic but should remain a strict lower bound for the worst case. \n",
    "- Therefore each iteration will hit all unsats once and only once.\n",
    "- We will ignore the probability added to subsiquent unsats in a given iteration from previous clauses and only consider the probability contributed from the states at the begining of the iteration. \n",
    "- We will assume uniform distrobution of the probability in the unsat states $\\frac{(1-\\text{probSat})}{2^n - 1}$"
   ]
  },
  {
   "cell_type": "code",
   "execution_count": 12,
   "id": "vital-flour",
   "metadata": {},
   "outputs": [],
   "source": [
    "numits = []\n",
    "\n",
    "for n in range(3,20):\n",
    "    i, sat, unsat = itsToFifty(n)\n",
    "    numits.append(i)\n",
    "# print(i)\n",
    "\n"
   ]
  },
  {
   "cell_type": "code",
   "execution_count": 14,
   "id": "exterior-thousand",
   "metadata": {},
   "outputs": [
    {
     "data": {
      "text/plain": [
       "[<matplotlib.lines.Line2D at 0x15552aa2cdc0>]"
      ]
     },
     "execution_count": 14,
     "metadata": {},
     "output_type": "execute_result"
    },
    {
     "data": {
      "image/png": "[encoded data removed]",
      "text/plain": [
       "<Figure size 432x288 with 1 Axes>"
      ]
     },
     "metadata": {
      "needs_background": "light"
     },
     "output_type": "display_data"
    }
   ],
   "source": [
    "import matplotlib.pyplot as plt\n",
    "\n",
    "plt.plot(numits[:-5])"
   ]
  },
  {
   "cell_type": "code",
   "execution_count": null,
   "id": "minus-diary",
   "metadata": {},
   "outputs": [],
   "source": []
  }
 ],
 "metadata": {
  "kernelspec": {
   "display_name": "Python 3.8 (conda)",
   "language": "python",
   "name": "python38-conda"
  },
  "language_info": {
   "codemirror_mode": {
    "name": "ipython",
    "version": 3
   },
   "file_extension": ".py",
   "mimetype": "text/x-python",
   "name": "python",
   "nbconvert_exporter": "python",
   "pygments_lexer": "ipython3",
   "version": "3.8.5"
  }
 },
 "nbformat": 4,
 "nbformat_minor": 5
}
