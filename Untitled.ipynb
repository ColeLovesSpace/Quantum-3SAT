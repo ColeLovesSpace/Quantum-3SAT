{
 "cells": [
  {
   "cell_type": "code",
   "execution_count": 1,
   "id": "meaning-prior",
   "metadata": {},
   "outputs": [
    {
     "name": "stdout",
     "output_type": "stream",
     "text": [
      "Fine-structure constant (α): 0.007297352552990068\n"
     ]
    }
   ],
   "source": [
    "import math\n",
    "\n",
    "# Define the physical constants and their dimensions\n",
    "constants = {\n",
    "    'speed_of_light': (299792458, 'm/s'),\n",
    "    'elementary_charge': (1.602176634e-19, 'C'),\n",
    "    'reduced_planck': (1.05457182e-34, 'J*s'),\n",
    "    'permittivity_vacuum': (8.8541878128e-12, 'F/m'),\n",
    "    'permeability_vacuum': (4 * math.pi * 1e-7, 'N/A^2')\n",
    "}\n",
    "\n",
    "# Calculate the Fine-structure constant\n",
    "alpha = constants['elementary_charge'][0] ** 2 / (\n",
    "    4 * math.pi * constants['permittivity_vacuum'][0] * constants['reduced_planck'][0] * constants['speed_of_light'][0]\n",
    ")\n",
    "print(\"Fine-structure constant (α):\", alpha)"
   ]
  },
  {
   "cell_type": "code",
   "execution_count": 2,
   "id": "revised-stick",
   "metadata": {},
   "outputs": [
    {
     "name": "stdout",
     "output_type": "stream",
     "text": [
      "Fine-structure constant (α): 0.007297352552990068\n",
      "Is α dimensionless? True\n",
      "New dimensionless number: 5.373331413462205e+43\n",
      "Is the new number dimensionless? True\n"
     ]
    }
   ],
   "source": [
    "import math\n",
    "\n",
    "# Define the physical constants and their dimensions\n",
    "constants = {\n",
    "    'speed_of_light': (299792458, {'length': 1, 'time': -1}),\n",
    "    'elementary_charge': (1.602176634e-19, {'current': 1, 'time': 1}),\n",
    "    'reduced_planck': (1.05457182e-34, {'length': 2, 'mass': 1, 'time': -1}),\n",
    "    'permittivity_vacuum': (8.8541878128e-12, {'length': -3, 'mass': -1, 'time': 4, 'current': 2}),\n",
    "    'permeability_vacuum': (4 * math.pi * 1e-7, {'length': 1, 'mass': 1, 'time': -2, 'current': -2}),\n",
    "    'electron_mass': (9.10938356e-31, {'mass': 1}),\n",
    "    'proton_mass': (1.672621898e-27, {'mass': 1}),\n",
    "    # Add more constants as needed\n",
    "}\n",
    "\n",
    "def is_dimensionless(number, dimensions):\n",
    "    # Check if the number is dimensionless by comparing its dimensions to the dimensions of unity\n",
    "    return all(dimensions[dim] == 0 for dim in dimensions)\n",
    "\n",
    "# Calculate the Fine-structure constant (α)\n",
    "alpha = (constants['elementary_charge'][0] ** 2) / (\n",
    "    4 * math.pi * constants['permittivity_vacuum'][0] * constants['reduced_planck'][0] * constants['speed_of_light'][0]\n",
    ")\n",
    "print(\"Fine-structure constant (α):\", alpha)\n",
    "print(\"Is α dimensionless?\", is_dimensionless(alpha, {}))\n",
    "\n",
    "# Define a new dimensionless number\n",
    "new_number = (constants['speed_of_light'][0] ** 2) / constants['proton_mass'][0]\n",
    "print(\"New dimensionless number:\", new_number)\n",
    "print(\"Is the new number dimensionless?\", is_dimensionless(new_number, {}))\n"
   ]
  },
  {
   "cell_type": "code",
   "execution_count": null,
   "id": "quiet-tours",
   "metadata": {},
   "outputs": [],
   "source": []
  }
 ],
 "metadata": {
  "kernelspec": {
   "display_name": "Python 3.8 (conda)",
   "language": "python",
   "name": "python38-conda"
  },
  "language_info": {
   "codemirror_mode": {
    "name": "ipython",
    "version": 3
   },
   "file_extension": ".py",
   "mimetype": "text/x-python",
   "name": "python",
   "nbconvert_exporter": "python",
   "pygments_lexer": "ipython3",
   "version": "3.8.5"
  }
 },
 "nbformat": 4,
 "nbformat_minor": 5
}
